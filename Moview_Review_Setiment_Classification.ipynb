{
  "cells": [
    {
      "cell_type": "markdown",
      "metadata": {
        "id": "ma5LY1JgA8Sh"
      },
      "source": [
        "# **Movie Review Sentiment Classification using Bigram Language Model**"
      ]
    },
    {
      "cell_type": "code",
      "execution_count": null,
      "metadata": {
        "id": "0tYD5AC_nIGo"
      },
      "outputs": [],
      "source": [
        "import re\n",
        "from collections import Counter\n",
        "import matplotlib.pyplot as plt\n",
        "import string"
      ]
    },
    {
      "cell_type": "code",
      "execution_count": null,
      "metadata": {
        "colab": {
          "base_uri": "https://localhost:8080/"
        },
        "id": "SDEBHD9lsP3i",
        "outputId": "223ea0c4-77f1-4d08-9f08-c773d154698a"
      },
      "outputs": [],
      "source": [
        "import nltk\n",
        "from nltk.tokenize import word_tokenize\n",
        "from nltk.corpus import stopwords\n",
        "from nltk.stem import WordNetLemmatizer\n",
        "from nltk import pos_tag\n",
        "from nltk.util import bigrams\n",
        "\n",
        "nltk.download('punkt')\n",
        "nltk.download('stopwords')\n",
        "nltk.download('wordnet')"
      ]
    },
    {
      "cell_type": "markdown",
      "metadata": {
        "id": "v0tHruUzYp3A"
      },
      "source": [
        "# **Reading Movie Reviews from a Text File**"
      ]
    },
    {
      "cell_type": "code",
      "execution_count": null,
      "metadata": {
        "id": "p62zW9BOnNFO"
      },
      "outputs": [],
      "source": [
        "# Open the file \"Movie_Reviews.txt\" in read mode with UTF-8 encoding\n",
        "# Read all lines from the file and store them in the list variable \"movie_reviews\"\n",
        "with open(\"Movie_Reviews.txt\", \"r\", encoding=\"utf-8\") as file:\n",
        "    movie_reviews = file.readlines()"
      ]
    },
    {
      "cell_type": "code",
      "execution_count": null,
      "metadata": {
        "colab": {
          "base_uri": "https://localhost:8080/"
        },
        "id": "W9k5I9tKAhrr",
        "outputId": "eb7e0843-13f8-42a9-b472-78e07202d736"
      },
      "outputs": [
        {
          "name": "stdout",
          "output_type": "stream",
          "text": [
            "Positive Reviews\n",
            "\n",
            "\n",
            "\n",
            "\n",
            "\n",
            "1. \"Forrest Gump is an absolute masterpiece! Tom Hanks delivers an unforgettable performance, and the storytelling is heartwarming. This movie is a journey through life that will make you laugh, cry, and appreciate the simple beauties of existence.\"\n",
            "\n",
            "\n",
            "\n",
            "2. \"The Shawshank Redemption is a timeless classic. The powerful themes of hope, friendship, and redemption make it a must-watch. Morgan Freeman and Tim Robbins give exceptional performances in this brilliantly crafted film.\"\n",
            "\n",
            "\n",
            "\n",
            "3. \"The epic conclusion to The Lord of the Rings trilogy, The Return of the King, is a cinematic triumph. The breathtaking visuals, epic battles, and emotionally resonant story make it a monumental achievement in filmmaking.\"\n",
            "\n",
            "\n",
            "\n",
            "4. \"La La Land is a love letter to the magic of Hollywood and dreams. The chemistry between Ryan Gosling and Emma Stone is enchanting, and the music and dance sequences are a pure delight. A modern musical masterpiece.\"\n",
            "\n",
            "\n",
            "\n",
            "5. \"Wes Anderson's whimsical style shines in The Grand Budapest Hotel. With its quirky characters and colorful cinematography, it's a visual and narrative delight. This film is a charming and delightful experience.\"\n",
            "\n",
            "\n",
            "\n",
            "6.\"Inception is mind-bending brilliance! Christopher Nolan's intricate plot, stunning visual effects, and Hans Zimmer's haunting score create a cinematic journey that keeps you on the edge of your seat. A true masterpiece of sci-fi cinema.\"\n",
            "\n",
            "\n",
            "\n",
            "7. \"The Social Network is a captivating exploration of the creation of Facebook and the personal and legal conflicts that ensued. David Fincher's direction and Aaron Sorkin's sharp screenplay make this film a modern classic.\"\n",
            "\n",
            "\n",
            "\n",
            "8. \"Will Smith's portrayal of Chris Gardner in The Pursuit of Happyness is both touching and inspirational. This film reminds us that with determination and unwavering spirit, anyone can overcome adversity to achieve their dreams.\"\n",
            "\n",
            "\n",
            "\n",
            "9. \"Eternal Sunshine of the Spotless Mind is a beautifully unconventional love story. Jim Carrey and Kate Winslet shine in their roles, and the narrative, told in a non-linear fashion, is a poignant exploration of love, memories, and human connection.\"\n",
            "\n",
            "\n",
            "\n",
            "10. \"The Princess Bride is a timeless fairy tale with a perfect blend of humor, romance, and adventure. Its witty dialogue and memorable characters make it a film that appeals to both kids and adults. Inconceivably delightful!\"\n",
            "\n",
            "\n",
            "\n",
            "11. \"Fifty Shades of Grey\" has managed to captivate both enthusiasts and critics alike. The film's ability to spark passionate discussions and elicit a wide range of opinions is a testament to its impact. While some may find it controversial, there's no denying that it has left a significant mark on the world of cinema.\n",
            "\n",
            "\n",
            "\n",
            "12. \"This film has been a conversation starter, and it's clear that it won't be everyone's cup of tea. But for those willing to approach it with an open mind, there's a visually lush experience with moments of genuine chemistry between the leads. It's a film that has managed to offer something different and intriguing in the world of romance and drama.\"\n",
            "\n",
            "\n",
            "\n",
            "\n",
            "\n",
            "Negative Reviews\n",
            "\n",
            "\n",
            "\n",
            "1. \"The Last Airbender is a disaster of a film adaptation. It butchers the beloved animated series with wooden acting, convoluted storytelling, and cringe-worthy special effects. A letdown for fans and newcomers alike.\"\n",
            "\n",
            "\n",
            "\n",
            "2. \"Another Transformers movie, and it's just more of the same: mindless explosions, incoherent plotlines, and an overreliance on CGI. This franchise desperately needs an overhaul.\"\n",
            "\n",
            "\n",
            "\n",
            "3. \"The Emoji Movie is a blatant cash grab with a shallow, uninspired plot. It fails to deliver clever humor or meaningful messages, making it a forgettable and disappointing animated film.\"\n",
            "\n",
            "\n",
            "\n",
            "4. \"Fifty Shades of Grey is a cringe-inducing attempt at romance. Poorly written dialogue and unconvincing chemistry between the leads make it an awkward and unfulfilling cinematic experience.\"\n",
            "\n",
            "\n",
            "\n",
            "5. \"Jack and Jill is an unbearable comedy that relies on stale humor and a painfully unfunny portrayal of Adam Sandler in a dual role. It's a prime example of lazy filmmaking.\"\n",
            "\n",
            "\n",
            "\n",
            "6. \"Superman IV is a colossal disappointment. It's marred by a low budget, laughable special effects, and a poorly conceived story. Even Christopher Reeve's charm can't save this mess.\"\n",
            "\n",
            "\n",
            "\n",
            "7. \"The Cat in the Hat is a chaotic and misguided adaptation of Dr. Seuss's classic. It sacrifices the charm and simplicity of the source material for crude humor and a lackluster narrative.\"\n",
            "\n",
            "\n",
            "\n",
            "8. \"The Room is widely regarded as one of the worst films ever made. Its disjointed plot, stilted acting, and bizarre dialogue have turned it into a cult classic, but not for the right reasons.\"\n",
            "\n",
            "\n",
            "\n",
            "9. \"Battlefield Earth is a sci-fi disaster. It's a convoluted mess with hammy acting and laughable special effects. A film that should have remained buried in the annals of cinematic history.\"\n",
            "\n",
            "\n",
            "\n",
            "10. \"Gigli is a train wreck of a romantic comedy. The pairing of Ben Affleck and Jennifer Lopez is devoid of chemistry, and the dialogue is cringeworthy. It's an embarrassing misstep in both their careers.\"\n",
            "\n",
            "\n",
            "\n",
            "11. \"Fifty Shades of Grey\" is a film that has divided enthusiasts and critics. While it has its share of devoted fans, it also faces substantial criticism. For some, the film's content and execution leave much to be desired, making it a polarizing cinematic experience. Viewer reactions may vary widely, so it's a movie that evokes strong opinions on both ends of the spectrum.\n",
            "\n",
            "\n",
            "\n",
            "12. \"This film's portrayal of relationships and themes may leave many viewers uncomfortable. It tests the limits of what some may find acceptable in mainstream cinema. So, while the idea of keeping an open mind is essential in film-watching, this particular movie might push that openness to its boundaries for some.\"\n",
            "\n",
            "\n",
            "\n",
            "\n",
            "\n",
            "\n",
            "\n",
            "\n",
            "\n",
            "\n",
            "\n",
            "It's clear that the movie has both its enthusiasts and critics. While it may not be to everyone's taste, it's worth watching with an open mind to form your own opinion. \n",
            "\n"
          ]
        }
      ],
      "source": [
        "# Remove \"=\" marks\n",
        "cleaned_reviews = [review.replace(\"=\", \"\") for review in movie_reviews]\n",
        "\n",
        "# Print the cleaned reviews\n",
        "for review in cleaned_reviews:\n",
        "    print(review)"
      ]
    },
    {
      "cell_type": "markdown",
      "metadata": {
        "id": "EUCSWPpXXm8q"
      },
      "source": [
        "# **Categorizing Movie Reviews into Positive and Negative Categories**"
      ]
    },
    {
      "cell_type": "code",
      "execution_count": null,
      "metadata": {
        "colab": {
          "base_uri": "https://localhost:8080/"
        },
        "id": "eRT8BguDnSQQ",
        "outputId": "efb04ab3-748f-4373-ecb6-69105618ae75"
      },
      "outputs": [
        {
          "name": "stdout",
          "output_type": "stream",
          "text": [
            "Positive Reviews:\n",
            "1. \"Forrest Gump is an absolute masterpiece! Tom Hanks delivers an unforgettable performance, and the storytelling is heartwarming. This movie is a journey through life that will make you laugh, cry, and appreciate the simple beauties of existence.\"\n",
            "\n",
            "2. \"The Shawshank Redemption is a timeless classic. The powerful themes of hope, friendship, and redemption make it a must-watch. Morgan Freeman and Tim Robbins give exceptional performances in this brilliantly crafted film.\"\n",
            "\n",
            "3. \"The epic conclusion to The Lord of the Rings trilogy, The Return of the King, is a cinematic triumph. The breathtaking visuals, epic battles, and emotionally resonant story make it a monumental achievement in filmmaking.\"\n",
            "\n",
            "4. \"La La Land is a love letter to the magic of Hollywood and dreams. The chemistry between Ryan Gosling and Emma Stone is enchanting, and the music and dance sequences are a pure delight. A modern musical masterpiece.\"\n",
            "\n",
            "5. \"Wes Anderson's whimsical style shines in The Grand Budapest Hotel. With its quirky characters and colorful cinematography, it's a visual and narrative delight. This film is a charming and delightful experience.\"\n",
            "\n",
            "6.\"Inception is mind-bending brilliance! Christopher Nolan's intricate plot, stunning visual effects, and Hans Zimmer's haunting score create a cinematic journey that keeps you on the edge of your seat. A true masterpiece of sci-fi cinema.\"\n",
            "\n",
            "7. \"The Social Network is a captivating exploration of the creation of Facebook and the personal and legal conflicts that ensued. David Fincher's direction and Aaron Sorkin's sharp screenplay make this film a modern classic.\"\n",
            "\n",
            "8. \"Will Smith's portrayal of Chris Gardner in The Pursuit of Happyness is both touching and inspirational. This film reminds us that with determination and unwavering spirit, anyone can overcome adversity to achieve their dreams.\"\n",
            "\n",
            "9. \"Eternal Sunshine of the Spotless Mind is a beautifully unconventional love story. Jim Carrey and Kate Winslet shine in their roles, and the narrative, told in a non-linear fashion, is a poignant exploration of love, memories, and human connection.\"\n",
            "\n",
            "10. \"The Princess Bride is a timeless fairy tale with a perfect blend of humor, romance, and adventure. Its witty dialogue and memorable characters make it a film that appeals to both kids and adults. Inconceivably delightful!\"\n",
            "\n",
            "11. \"Fifty Shades of Grey\" has managed to captivate both enthusiasts and critics alike. The film's ability to spark passionate discussions and elicit a wide range of opinions is a testament to its impact. While some may find it controversial, there's no denying that it has left a significant mark on the world of cinema.\n",
            "\n",
            "12. \"This film has been a conversation starter, and it's clear that it won't be everyone's cup of tea. But for those willing to approach it with an open mind, there's a visually lush experience with moments of genuine chemistry between the leads. It's a film that has managed to offer something different and intriguing in the world of romance and drama.\"\n",
            "\n",
            "\n",
            "Negative Reviews:\n",
            "1. \"The Last Airbender is a disaster of a film adaptation. It butchers the beloved animated series with wooden acting, convoluted storytelling, and cringe-worthy special effects. A letdown for fans and newcomers alike.\"\n",
            "\n",
            "2. \"Another Transformers movie, and it's just more of the same: mindless explosions, incoherent plotlines, and an overreliance on CGI. This franchise desperately needs an overhaul.\"\n",
            "\n",
            "3. \"The Emoji Movie is a blatant cash grab with a shallow, uninspired plot. It fails to deliver clever humor or meaningful messages, making it a forgettable and disappointing animated film.\"\n",
            "\n",
            "4. \"Fifty Shades of Grey is a cringe-inducing attempt at romance. Poorly written dialogue and unconvincing chemistry between the leads make it an awkward and unfulfilling cinematic experience.\"\n",
            "\n",
            "5. \"Jack and Jill is an unbearable comedy that relies on stale humor and a painfully unfunny portrayal of Adam Sandler in a dual role. It's a prime example of lazy filmmaking.\"\n",
            "\n",
            "6. \"Superman IV is a colossal disappointment. It's marred by a low budget, laughable special effects, and a poorly conceived story. Even Christopher Reeve's charm can't save this mess.\"\n",
            "\n",
            "7. \"The Cat in the Hat is a chaotic and misguided adaptation of Dr. Seuss's classic. It sacrifices the charm and simplicity of the source material for crude humor and a lackluster narrative.\"\n",
            "\n",
            "8. \"The Room is widely regarded as one of the worst films ever made. Its disjointed plot, stilted acting, and bizarre dialogue have turned it into a cult classic, but not for the right reasons.\"\n",
            "\n",
            "9. \"Battlefield Earth is a sci-fi disaster. It's a convoluted mess with hammy acting and laughable special effects. A film that should have remained buried in the annals of cinematic history.\"\n",
            "\n",
            "10. \"Gigli is a train wreck of a romantic comedy. The pairing of Ben Affleck and Jennifer Lopez is devoid of chemistry, and the dialogue is cringeworthy. It's an embarrassing misstep in both their careers.\"\n",
            "\n",
            "11. \"Fifty Shades of Grey\" is a film that has divided enthusiasts and critics. While it has its share of devoted fans, it also faces substantial criticism. For some, the film's content and execution leave much to be desired, making it a polarizing cinematic experience. Viewer reactions may vary widely, so it's a movie that evokes strong opinions on both ends of the spectrum.\n",
            "\n",
            "12. \"This film's portrayal of relationships and themes may leave many viewers uncomfortable. It tests the limits of what some may find acceptable in mainstream cinema. So, while the idea of keeping an open mind is essential in film-watching, this particular movie might push that openness to its boundaries for some.\"\n",
            "\n"
          ]
        }
      ],
      "source": [
        "# Initialize empty lists to store positive and negative reviews\n",
        "positive_reviews = []\n",
        "negative_reviews = []\n",
        "\n",
        "# Flag to determine if a review is positive or negative\n",
        "is_positive = False\n",
        "\n",
        "# Sentence to exclude\n",
        "exclude_sentence = \"It's clear that the movie has both its enthusiasts and critics.\"\n",
        "\n",
        "# Iterate through cleaned reviews and categorize them as positive or negative reviews\n",
        "# Append the review to the appropriate list\n",
        "for review in cleaned_reviews:\n",
        "    if \"Positive Reviews\" in review:\n",
        "        is_positive = True\n",
        "    elif \"Negative Reviews\" in review:\n",
        "        is_positive = False\n",
        "    elif review.strip() and exclude_sentence not in review:\n",
        "        if is_positive:\n",
        "            positive_reviews.append(review)\n",
        "        else:\n",
        "            negative_reviews.append(review)\n",
        "\n",
        "# Print all positive  reviews\n",
        "print(\"Positive Reviews:\")\n",
        "for positive_review in positive_reviews:\n",
        "    print(positive_review)\n",
        "\n",
        "# Print all negative reviews\n",
        "print(\"\\nNegative Reviews:\")\n",
        "for negative_review in negative_reviews:\n",
        "    print(negative_review)"
      ]
    },
    {
      "cell_type": "code",
      "execution_count": null,
      "metadata": {
        "colab": {
          "base_uri": "https://localhost:8080/"
        },
        "id": "7Gr_UjMHnkMr",
        "outputId": "ecbf46d3-2340-4fbb-c517-f25b1deefabf"
      },
      "outputs": [
        {
          "name": "stdout",
          "output_type": "stream",
          "text": [
            "Number of positive reviews:  12\n",
            "Number of negative reviews:  12\n"
          ]
        }
      ],
      "source": [
        "print('Number of positive reviews: ', len(positive_reviews))\n",
        "print('Number of negative reviews: ', len(negative_reviews))"
      ]
    },
    {
      "cell_type": "code",
      "execution_count": null,
      "metadata": {
        "colab": {
          "base_uri": "https://localhost:8080/",
          "height": 653
        },
        "id": "zWDfBXpgn_Zh",
        "outputId": "c7fb1b99-0297-404e-c609-3882091e167a"
      },
      "outputs": [
        {
          "data": {
            "image/png": "[encoded data removed]",
            "text/plain": [
              "<Figure size 800x800 with 1 Axes>"
            ]
          },
          "metadata": {},
          "output_type": "display_data"
        }
      ],
      "source": [
        "sentiment_counts = [len(positive_reviews), len(negative_reviews)]\n",
        "sentiments = ['Positive Reviews', 'Negative Reviews']\n",
        "\n",
        "# Create a pie chart\n",
        "plt.figure(figsize=(8, 8))\n",
        "plt.pie(sentiment_counts, labels=sentiments, autopct='%1.1f%%', startangle=90)\n",
        "\n",
        "# Equal aspect ratio ensures that pie is drawn as a circle\n",
        "plt.axis('equal')\n",
        "\n",
        "# Display the chart\n",
        "plt.show()\n"
      ]
    },
    {
      "cell_type": "markdown",
      "metadata": {
        "id": "-CeOWm8tocNi"
      },
      "source": [
        "# **Preprocessing**"
      ]
    },
    {
      "cell_type": "markdown",
      "metadata": {
        "id": "u857S7LLpJqM"
      },
      "source": [
        "# **Convert to Lowercase**"
      ]
    },
    {
      "cell_type": "code",
      "execution_count": null,
      "metadata": {
        "colab": {
          "base_uri": "https://localhost:8080/"
        },
        "id": "LwGC82QgozP6",
        "outputId": "198c69f5-4e8b-42f5-b2ed-ee451e082e95"
      },
      "outputs": [],
      "source": [
        "# Convert positive and negative reviews to lowercase\n",
        "positive_reviews_lower = [review.lower() for review in positive_reviews]\n",
        "negative_reviews_lower = [review.lower() for review in negative_reviews]\n",
        "\n",
        "# Display the lowercase reviews\n",
        "print(\"Positive Reviews (Lowercase):\", positive_reviews_lower)\n",
        "print(\"Negative Reviews (Lowercase):\", negative_reviews_lower)"
      ]
    },
    {
      "cell_type": "markdown",
      "metadata": {
        "id": "4wll-SnlqXlU"
      },
      "source": [
        "# **Remove Punctuation**"
      ]
    },
    {
      "cell_type": "code",
      "execution_count": null,
      "metadata": {
        "colab": {
          "base_uri": "https://localhost:8080/"
        },
        "id": "vM7_nAI8qNlC",
        "outputId": "6ce93a77-387c-4542-a5f8-afe962bbc38f"
      },
      "outputs": [],
      "source": [
        "# Function to remove punctuation\n",
        "def remove_punctuation(text):\n",
        "    return re.sub(r'[^\\w\\s]', '', text)\n",
        "\n",
        "# Remove punctuation from positive and negative reviews\n",
        "positive_reviews_without_punct = [remove_punctuation(review) for review in positive_reviews_lower]\n",
        "negative_reviews_without_punct = [remove_punctuation(review) for review in negative_reviews_lower]\n",
        "\n",
        "# Display the reviews without punctuation\n",
        "print(\"Positive Reviews (No Punctuation):\", positive_reviews_without_punct)\n",
        "print(\"Negative Reviews (No Punctuation):\", negative_reviews_without_punct)"
      ]
    },
    {
      "cell_type": "markdown",
      "metadata": {
        "id": "xHPklIECrzgq"
      },
      "source": [
        "# **Tokanizing**"
      ]
    },
    {
      "cell_type": "markdown",
      "metadata": {
        "id": "5bML-oeFyVaW"
      },
      "source": [
        "This code performs the tokenization of both positive and negative reviews. First, it tokenizes each review into individual words using the word_tokenize function. Then, it flattens the lists of tokenized words for positive and negative reviews into single lists. Finally, it prints the tokenized words for both positive and negative reviews. The result is a list of individual words extracted from the reviews."
      ]
    },
    {
      "cell_type": "code",
      "execution_count": null,
      "metadata": {
        "colab": {
          "base_uri": "https://localhost:8080/"
        },
        "id": "QpZg6Gffp_pd",
        "outputId": "7a77d909-e96f-4af5-d030-1c8702462454"
      },
      "outputs": [],
      "source": [
        "# Tokenize positive and negative reviews into words\n",
        "positive_reviews_tokenized = [word_tokenize(review) for review in positive_reviews_without_punct]\n",
        "negative_reviews_tokenized = [word_tokenize(review) for review in negative_reviews_without_punct]\n",
        "\n",
        "\n",
        "# Flatten the lists of tokenized words\n",
        "positive_reviews_flat = [word for review in positive_reviews_tokenized for word in review]\n",
        "negative_reviews_flat = [word for review in negative_reviews_tokenized for word in review]\n",
        "\n",
        "\n",
        "# Display the tokenized reviews\n",
        "print(\"Positive Reviews (Tokenized):\", positive_reviews_flat)\n",
        "print(\"Negative Reviews (Tokenized):\", negative_reviews_flat)"
      ]
    },
    {
      "cell_type": "markdown",
      "metadata": {
        "id": "icuWM3X93XXT"
      },
      "source": [
        "# **Remove Stop words and Lemmatization**"
      ]
    },
    {
      "cell_type": "markdown",
      "metadata": {
        "id": "KSUel54Ar-ql"
      },
      "source": [
        "In this code it begins by performing part-of-speech tagging to categorize words into their grammatical roles. Stop words are removed, and any numbers are filtered out. The remaining words are lemmatized based on their part-of-speech tags, reducing them to their base forms. The result is a list of preprocessed words for both positive and negative reviews."
      ]
    },
    {
      "cell_type": "code",
      "execution_count": null,
      "metadata": {
        "colab": {
          "base_uri": "https://localhost:8080/"
        },
        "id": "Ipvmk0in57a2",
        "outputId": "4b1d3d54-76f4-414b-d6cc-ff547c90347b"
      },
      "outputs": [],
      "source": [
        "def get_wordnet_pos(tag):\n",
        "    # Map POS tag to WordNet POS tag\n",
        "    tag_dict = {\"N\": \"n\", \"V\": \"v\", \"R\": \"r\", \"J\": \"a\"}\n",
        "    return tag_dict.get(tag[0], 'n')  # Default to noun if not found\n",
        "\n",
        "def lemmatize_reviews(reviews):\n",
        "    # Perform part-of-speech tagging\n",
        "    reviews_pos = pos_tag(reviews)\n",
        "\n",
        "    # Define stop words and remove them, also remove numbers\n",
        "    stop_words = set(stopwords.words(\"english\"))\n",
        "\n",
        "    reviews_filtered = [word for word, pos in reviews_pos if word not in stop_words and word.isalpha()]\n",
        "\n",
        "    # Lemmatize the filtered words based on POS\n",
        "    lemmatizer = WordNetLemmatizer()\n",
        "    reviews_lemmatized = [lemmatizer.lemmatize(word, pos=get_wordnet_pos(pos)) for word, pos in pos_tag(reviews_filtered)]\n",
        "\n",
        "    return reviews_lemmatized\n",
        "\n",
        "# Preprocess positive and negative reviews\n",
        "cleaned_positive_reviews = lemmatize_reviews(positive_reviews_flat)\n",
        "cleaned_negative_reviews = lemmatize_reviews(negative_reviews_flat)\n",
        "\n",
        "# Display the preprocessed reviews\n",
        "print(\"Positive Reviews (Preprocessed):\", cleaned_positive_reviews)\n",
        "print(\"Negative Reviews (Preprocessed):\", cleaned_negative_reviews)"
      ]
    },
    {
      "cell_type": "markdown",
      "metadata": {
        "id": "bmZxfeJll2xA"
      },
      "source": [
        "# **Implement Bigram Model**"
      ]
    },
    {
      "cell_type": "markdown",
      "metadata": {
        "id": "F_OXN3_sIH7o"
      },
      "source": [
        "Since this is a small dataset, I chose the Bigram model. Using higher N-values, such as trigrams or more would require more extensive training data to provide accurate and reliable predictions. With a bigram model, I focus on pairs of consecutive words, making it more suitable for smaller datasets where higher order N-grams may result in unreliable statistics.\n",
        "\n",
        "Unigrams consider each word in isolation and do not capture the contextual information provided by bigrams or higher order N-grams. In sentiment analysis and language modeling, context plays a crucial role in understanding the meaning and sentiment of text. Therefore, unigrams may not adequately capture the associations between words that are vital for sentiment analysis.\n"
      ]
    },
    {
      "cell_type": "code",
      "execution_count": null,
      "metadata": {
        "colab": {
          "base_uri": "https://localhost:8080/"
        },
        "id": "EnQnjW651hJu",
        "outputId": "f440576f-3165-4266-abd0-932abcb0c3b7"
      },
      "outputs": [],
      "source": [
        "# Generate bigrams for positive and negative reviews\n",
        "positive_bigrams = list(bigrams(cleaned_positive_reviews))\n",
        "negative_bigrams = list(bigrams(cleaned_negative_reviews))\n",
        "\n",
        "print(positive_bigrams)\n",
        "print(negative_bigrams)"
      ]
    },
    {
      "cell_type": "code",
      "execution_count": null,
      "metadata": {
        "colab": {
          "base_uri": "https://localhost:8080/"
        },
        "id": "CktBWc5uKPtV",
        "outputId": "6f79ddc9-b710-484b-92ec-14d54f053835"
      },
      "outputs": [],
      "source": [
        "# Calculate Bigram probabilities for each Bigram in the corpus\n",
        "\n",
        "def calculate_bigram_probabilities(bigrams,unigrams):\n",
        "    bigram_probabilities = {}\n",
        "    for bigram in bigrams:\n",
        "        word1, word2 = bigram\n",
        "        bigram_count = bigrams.count(bigram)\n",
        "        unigram_count = unigrams.count(word1)\n",
        "        bigram_probabilities[bigram] = (bigram_count) / (unigram_count)\n",
        "\n",
        "    return bigram_probabilities\n",
        "\n",
        "positive_bigram_probabilities = calculate_bigram_probabilities(positive_bigrams, cleaned_positive_reviews)\n",
        "negative_bigram_probabilities = calculate_bigram_probabilities(negative_bigrams, cleaned_negative_reviews)\n",
        "\n",
        "print(positive_bigram_probabilities)\n",
        "print(negative_bigram_probabilities)"
      ]
    },
    {
      "cell_type": "markdown",
      "metadata": {
        "id": "5e4gEAmL9fdL"
      },
      "source": [
        "# **Implement the function to predict the catogory of a movie review**"
      ]
    },
    {
      "cell_type": "code",
      "execution_count": null,
      "metadata": {
        "id": "0Lv73b8skLdh"
      },
      "outputs": [],
      "source": [
        "def classify_movie_review(test_review):\n",
        "\n",
        "    # Remove punctuation and stop words, tokenize, and lemmatize the words in the test_review\n",
        "    test_review_no_punct = ''.join([char for char in test_review if char not in string.punctuation])\n",
        "    test_words = word_tokenize(test_review_no_punct)\n",
        "    test_words = lemmatize_reviews(test_words)\n",
        "\n",
        "    # Generate bigrams for the test review\n",
        "    test_bigrams = list(bigrams(test_words))\n",
        "\n",
        "    # Calculate the N-gram probability for the test review\n",
        "    positive_probability = 1.0\n",
        "    negative_probability = 1.0\n",
        "\n",
        "    # Calculate probabilities for positive bigrams\n",
        "    for bigram in test_bigrams:\n",
        "        if bigram in positive_bigram_probabilities:\n",
        "            positive_probability *= positive_bigram_probabilities[bigram]\n",
        "\n",
        "    # Calculate probabilities for negative bigrams\n",
        "    for bigram in test_bigrams:\n",
        "        if bigram in negative_bigram_probabilities:\n",
        "            negative_probability *= negative_bigram_probabilities[bigram]\n",
        "\n",
        "    # Predict the category of the test movie review\n",
        "    if positive_probability > negative_probability:\n",
        "       prediction_explanation = \"The review is classified as positive.\"\n",
        "    elif positive_probability < negative_probability:\n",
        "       prediction_explanation = \"The review is classified as negative.\"\n",
        "    else:\n",
        "       prediction_explanation = \"The review is classified as neutral.\"\n",
        "\n",
        "    print(f\"Positive Probability: {positive_probability}\")\n",
        "    print(f\"Negative Probability: {negative_probability}\")\n",
        "\n",
        "    return prediction_explanation\n"
      ]
    },
    {
      "cell_type": "code",
      "execution_count": null,
      "metadata": {
        "id": "NWfTdHZVg5kz"
      },
      "outputs": [],
      "source": [
        "def classify_movie_review(test_review):\n",
        "\n",
        "    # Remove punctuation and stop words, tokenize and lemmatize the words in the test_review\n",
        "    test_review_no_punct = ''.join([char for char in test_review if char not in string.punctuation])\n",
        "    test_words = word_tokenize(test_review_no_punct)\n",
        "    test_words = lemmatize_reviews(test_words)\n",
        "\n",
        "    # Generate bigrams for the test review\n",
        "    test_bigrams = list(bigrams(test_words))\n",
        "\n",
        "    # Calculate the bigram probability for the test review\n",
        "    positive_prob = 1.0\n",
        "    negative_prob = 1.0\n",
        "\n",
        "    for bigram in test_bigrams:\n",
        "        positive_prob *= positive_bigram_probabilities.get((bigram), 1e-10)  # Using 1e-10 as a small value to avoid division by zero\n",
        "        negative_prob *= negative_bigram_probabilities.get((bigram), 1e-10)\n",
        "\n",
        "    print()\n",
        "\n",
        "    # Predict the category of the test movie review\n",
        "    if positive_prob > negative_prob:\n",
        "       prediction_explanation = \"The review is classified as positive.\"\n",
        "    elif positive_prob < negative_prob:\n",
        "       prediction_explanation = \"The review is classified as negative.\"\n",
        "    else:\n",
        "       prediction_explanation = \"The review is classified as neutral.\"\n",
        "\n",
        "    print(f\"Positive Probability: {positive_prob}\")\n",
        "    print(f\"Negative Probability: {negative_prob}\")\n",
        "\n",
        "    return prediction_explanation"
      ]
    },
    {
      "cell_type": "markdown",
      "metadata": {
        "id": "HZLQcu9Y9xyo"
      },
      "source": [
        "# **Predict the catogory of a movie review**"
      ]
    },
    {
      "cell_type": "code",
      "execution_count": null,
      "metadata": {
        "colab": {
          "base_uri": "https://localhost:8080/"
        },
        "id": "bFYTJIWy9awu",
        "outputId": "67eaacc1-7f88-45ac-8c40-11b5d930467a"
      },
      "outputs": [
        {
          "name": "stdout",
          "output_type": "stream",
          "text": [
            "Positive Probability: 7.694675284702985e-05\n",
            "Negative Probability: 0.00010628122010840684\n",
            "The review is classified as negative.\n"
          ]
        }
      ],
      "source": [
        "# Call the function and print the output\n",
        "test_review = \"It's clear that the movie has both its enthusiasts and critics. While it may not be to everyone's taste, it's worth watching with an open mind to form your own opinion.\"\n",
        "\n",
        "output = classify_movie_review(test_review)\n",
        "print(output)"
      ]
    }
  ],
  "metadata": {
    "colab": {
      "provenance": []
    },
    "kernelspec": {
      "display_name": "Python 3",
      "name": "python3"
    },
    "language_info": {
      "name": "python"
    }
  },
  "nbformat": 4,
  "nbformat_minor": 0
}
