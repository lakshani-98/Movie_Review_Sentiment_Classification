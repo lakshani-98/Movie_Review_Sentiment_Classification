{
  "nbformat": 4,
  "nbformat_minor": 0,
  "metadata": {
    "colab": {
      "provenance": []
    },
    "kernelspec": {
      "name": "python3",
      "display_name": "Python 3"
    },
    "language_info": {
      "name": "python"
    }
  },
  "cells": [
    {
      "cell_type": "markdown",
      "source": [
        "# **Movie Review Sentiment Classification using Bigram Language Model**"
      ],
      "metadata": {
        "id": "ma5LY1JgA8Sh"
      }
    },
    {
      "cell_type": "code",
      "execution_count": null,
      "metadata": {
        "id": "0tYD5AC_nIGo"
      },
      "outputs": [],
      "source": [
        "import re\n",
        "from collections import Counter\n",
        "import matplotlib.pyplot as plt\n",
        "import string"
      ]
    },
    {
      "cell_type": "code",
      "source": [
        "import nltk\n",
        "from nltk.tokenize import word_tokenize\n",
        "from nltk.corpus import stopwords\n",
        "from nltk.stem import WordNetLemmatizer\n",
        "from nltk import pos_tag\n",
        "from nltk.util import bigrams\n",
        "\n",
        "nltk.download('punkt')\n",
        "nltk.download('stopwords')\n",
        "nltk.download('wordnet')"
      ],
      "metadata": {
        "id": "SDEBHD9lsP3i",
        "colab": {
          "base_uri": "https://localhost:8080/"
        },
        "outputId": "223ea0c4-77f1-4d08-9f08-c773d154698a"
      },
      "execution_count": null,
      "outputs": [
        {
          "output_type": "stream",
          "name": "stderr",
          "text": [
            "[nltk_data] Downloading package punkt to /root/nltk_data...\n",
            "[nltk_data]   Package punkt is already up-to-date!\n",
            "[nltk_data] Downloading package stopwords to /root/nltk_data...\n",
            "[nltk_data]   Package stopwords is already up-to-date!\n",
            "[nltk_data] Downloading package wordnet to /root/nltk_data...\n",
            "[nltk_data]   Package wordnet is already up-to-date!\n"
          ]
        },
        {
          "output_type": "execute_result",
          "data": {
            "text/plain": [
              "True"
            ]
          },
          "metadata": {},
          "execution_count": 439
        }
      ]
    },
    {
      "cell_type": "markdown",
      "source": [
        "# **Reading Movie Reviews from a Text File**"
      ],
      "metadata": {
        "id": "v0tHruUzYp3A"
      }
    },
    {
      "cell_type": "code",
      "source": [
        "# Open the file \"Movie_Reviews.txt\" in read mode with UTF-8 encoding\n",
        "# Read all lines from the file and store them in the list variable \"movie_reviews\"\n",
        "with open(\"Movie_Reviews.txt\", \"r\", encoding=\"utf-8\") as file:\n",
        "    movie_reviews = file.readlines()"
      ],
      "metadata": {
        "id": "p62zW9BOnNFO"
      },
      "execution_count": null,
      "outputs": []
    },
    {
      "cell_type": "code",
      "source": [
        "# Remove \"=\" marks\n",
        "cleaned_reviews = [review.replace(\"=\", \"\") for review in movie_reviews]\n",
        "\n",
        "# Print the cleaned reviews\n",
        "for review in cleaned_reviews:\n",
        "    print(review)"
      ],
      "metadata": {
        "id": "W9k5I9tKAhrr",
        "colab": {
          "base_uri": "https://localhost:8080/"
        },
        "outputId": "eb7e0843-13f8-42a9-b472-78e07202d736"
      },
      "execution_count": null,
      "outputs": [
        {
          "output_type": "stream",
          "name": "stdout",
          "text": [
            "Positive Reviews\n",
            "\n",
            "\n",
            "\n",
            "\n",
            "\n",
            "1. \"Forrest Gump is an absolute masterpiece! Tom Hanks delivers an unforgettable performance, and the storytelling is heartwarming. This movie is a journey through life that will make you laugh, cry, and appreciate the simple beauties of existence.\"\n",
            "\n",
            "\n",
            "\n",
            "2. \"The Shawshank Redemption is a timeless classic. The powerful themes of hope, friendship, and redemption make it a must-watch. Morgan Freeman and Tim Robbins give exceptional performances in this brilliantly crafted film.\"\n",
            "\n",
            "\n",
            "\n",
            "3. \"The epic conclusion to The Lord of the Rings trilogy, The Return of the King, is a cinematic triumph. The breathtaking visuals, epic battles, and emotionally resonant story make it a monumental achievement in filmmaking.\"\n",
            "\n",
            "\n",
            "\n",
            "4. \"La La Land is a love letter to the magic of Hollywood and dreams. The chemistry between Ryan Gosling and Emma Stone is enchanting, and the music and dance sequences are a pure delight. A modern musical masterpiece.\"\n",
            "\n",
            "\n",
            "\n",
            "5. \"Wes Anderson's whimsical style shines in The Grand Budapest Hotel. With its quirky characters and colorful cinematography, it's a visual and narrative delight. This film is a charming and delightful experience.\"\n",
            "\n",
            "\n",
            "\n",
            "6.\"Inception is mind-bending brilliance! Christopher Nolan's intricate plot, stunning visual effects, and Hans Zimmer's haunting score create a cinematic journey that keeps you on the edge of your seat. A true masterpiece of sci-fi cinema.\"\n",
            "\n",
            "\n",
            "\n",
            "7. \"The Social Network is a captivating exploration of the creation of Facebook and the personal and legal conflicts that ensued. David Fincher's direction and Aaron Sorkin's sharp screenplay make this film a modern classic.\"\n",
            "\n",
            "\n",
            "\n",
            "8. \"Will Smith's portrayal of Chris Gardner in The Pursuit of Happyness is both touching and inspirational. This film reminds us that with determination and unwavering spirit, anyone can overcome adversity to achieve their dreams.\"\n",
            "\n",
            "\n",
            "\n",
            "9. \"Eternal Sunshine of the Spotless Mind is a beautifully unconventional love story. Jim Carrey and Kate Winslet shine in their roles, and the narrative, told in a non-linear fashion, is a poignant exploration of love, memories, and human connection.\"\n",
            "\n",
            "\n",
            "\n",
            "10. \"The Princess Bride is a timeless fairy tale with a perfect blend of humor, romance, and adventure. Its witty dialogue and memorable characters make it a film that appeals to both kids and adults. Inconceivably delightful!\"\n",
            "\n",
            "\n",
            "\n",
            "11. \"Fifty Shades of Grey\" has managed to captivate both enthusiasts and critics alike. The film's ability to spark passionate discussions and elicit a wide range of opinions is a testament to its impact. While some may find it controversial, there's no denying that it has left a significant mark on the world of cinema.\n",
            "\n",
            "\n",
            "\n",
            "12. \"This film has been a conversation starter, and it's clear that it won't be everyone's cup of tea. But for those willing to approach it with an open mind, there's a visually lush experience with moments of genuine chemistry between the leads. It's a film that has managed to offer something different and intriguing in the world of romance and drama.\"\n",
            "\n",
            "\n",
            "\n",
            "\n",
            "\n",
            "Negative Reviews\n",
            "\n",
            "\n",
            "\n",
            "1. \"The Last Airbender is a disaster of a film adaptation. It butchers the beloved animated series with wooden acting, convoluted storytelling, and cringe-worthy special effects. A letdown for fans and newcomers alike.\"\n",
            "\n",
            "\n",
            "\n",
            "2. \"Another Transformers movie, and it's just more of the same: mindless explosions, incoherent plotlines, and an overreliance on CGI. This franchise desperately needs an overhaul.\"\n",
            "\n",
            "\n",
            "\n",
            "3. \"The Emoji Movie is a blatant cash grab with a shallow, uninspired plot. It fails to deliver clever humor or meaningful messages, making it a forgettable and disappointing animated film.\"\n",
            "\n",
            "\n",
            "\n",
            "4. \"Fifty Shades of Grey is a cringe-inducing attempt at romance. Poorly written dialogue and unconvincing chemistry between the leads make it an awkward and unfulfilling cinematic experience.\"\n",
            "\n",
            "\n",
            "\n",
            "5. \"Jack and Jill is an unbearable comedy that relies on stale humor and a painfully unfunny portrayal of Adam Sandler in a dual role. It's a prime example of lazy filmmaking.\"\n",
            "\n",
            "\n",
            "\n",
            "6. \"Superman IV is a colossal disappointment. It's marred by a low budget, laughable special effects, and a poorly conceived story. Even Christopher Reeve's charm can't save this mess.\"\n",
            "\n",
            "\n",
            "\n",
            "7. \"The Cat in the Hat is a chaotic and misguided adaptation of Dr. Seuss's classic. It sacrifices the charm and simplicity of the source material for crude humor and a lackluster narrative.\"\n",
            "\n",
            "\n",
            "\n",
            "8. \"The Room is widely regarded as one of the worst films ever made. Its disjointed plot, stilted acting, and bizarre dialogue have turned it into a cult classic, but not for the right reasons.\"\n",
            "\n",
            "\n",
            "\n",
            "9. \"Battlefield Earth is a sci-fi disaster. It's a convoluted mess with hammy acting and laughable special effects. A film that should have remained buried in the annals of cinematic history.\"\n",
            "\n",
            "\n",
            "\n",
            "10. \"Gigli is a train wreck of a romantic comedy. The pairing of Ben Affleck and Jennifer Lopez is devoid of chemistry, and the dialogue is cringeworthy. It's an embarrassing misstep in both their careers.\"\n",
            "\n",
            "\n",
            "\n",
            "11. \"Fifty Shades of Grey\" is a film that has divided enthusiasts and critics. While it has its share of devoted fans, it also faces substantial criticism. For some, the film's content and execution leave much to be desired, making it a polarizing cinematic experience. Viewer reactions may vary widely, so it's a movie that evokes strong opinions on both ends of the spectrum.\n",
            "\n",
            "\n",
            "\n",
            "12. \"This film's portrayal of relationships and themes may leave many viewers uncomfortable. It tests the limits of what some may find acceptable in mainstream cinema. So, while the idea of keeping an open mind is essential in film-watching, this particular movie might push that openness to its boundaries for some.\"\n",
            "\n",
            "\n",
            "\n",
            "\n",
            "\n",
            "\n",
            "\n",
            "\n",
            "\n",
            "\n",
            "\n",
            "It's clear that the movie has both its enthusiasts and critics. While it may not be to everyone's taste, it's worth watching with an open mind to form your own opinion. \n",
            "\n"
          ]
        }
      ]
    },
    {
      "cell_type": "markdown",
      "source": [
        "# **Categorizing Movie Reviews into Positive and Negative Categories**"
      ],
      "metadata": {
        "id": "EUCSWPpXXm8q"
      }
    },
    {
      "cell_type": "code",
      "source": [
        "# Initialize empty lists to store positive and negative reviews\n",
        "positive_reviews = []\n",
        "negative_reviews = []\n",
        "\n",
        "# Flag to determine if a review is positive or negative\n",
        "is_positive = False\n",
        "\n",
        "# Sentence to exclude\n",
        "exclude_sentence = \"It's clear that the movie has both its enthusiasts and critics.\"\n",
        "\n",
        "# Iterate through cleaned reviews and categorize them as positive or negative reviews\n",
        "# Append the review to the appropriate list\n",
        "for review in cleaned_reviews:\n",
        "    if \"Positive Reviews\" in review:\n",
        "        is_positive = True\n",
        "    elif \"Negative Reviews\" in review:\n",
        "        is_positive = False\n",
        "    elif review.strip() and exclude_sentence not in review:\n",
        "        if is_positive:\n",
        "            positive_reviews.append(review)\n",
        "        else:\n",
        "            negative_reviews.append(review)\n",
        "\n",
        "# Print all positive  reviews\n",
        "print(\"Positive Reviews:\")\n",
        "for positive_review in positive_reviews:\n",
        "    print(positive_review)\n",
        "\n",
        "# Print all negative reviews\n",
        "print(\"\\nNegative Reviews:\")\n",
        "for negative_review in negative_reviews:\n",
        "    print(negative_review)"
      ],
      "metadata": {
        "id": "eRT8BguDnSQQ",
        "colab": {
          "base_uri": "https://localhost:8080/"
        },
        "outputId": "efb04ab3-748f-4373-ecb6-69105618ae75"
      },
      "execution_count": null,
      "outputs": [
        {
          "output_type": "stream",
          "name": "stdout",
          "text": [
            "Positive Reviews:\n",
            "1. \"Forrest Gump is an absolute masterpiece! Tom Hanks delivers an unforgettable performance, and the storytelling is heartwarming. This movie is a journey through life that will make you laugh, cry, and appreciate the simple beauties of existence.\"\n",
            "\n",
            "2. \"The Shawshank Redemption is a timeless classic. The powerful themes of hope, friendship, and redemption make it a must-watch. Morgan Freeman and Tim Robbins give exceptional performances in this brilliantly crafted film.\"\n",
            "\n",
            "3. \"The epic conclusion to The Lord of the Rings trilogy, The Return of the King, is a cinematic triumph. The breathtaking visuals, epic battles, and emotionally resonant story make it a monumental achievement in filmmaking.\"\n",
            "\n",
            "4. \"La La Land is a love letter to the magic of Hollywood and dreams. The chemistry between Ryan Gosling and Emma Stone is enchanting, and the music and dance sequences are a pure delight. A modern musical masterpiece.\"\n",
            "\n",
            "5. \"Wes Anderson's whimsical style shines in The Grand Budapest Hotel. With its quirky characters and colorful cinematography, it's a visual and narrative delight. This film is a charming and delightful experience.\"\n",
            "\n",
            "6.\"Inception is mind-bending brilliance! Christopher Nolan's intricate plot, stunning visual effects, and Hans Zimmer's haunting score create a cinematic journey that keeps you on the edge of your seat. A true masterpiece of sci-fi cinema.\"\n",
            "\n",
            "7. \"The Social Network is a captivating exploration of the creation of Facebook and the personal and legal conflicts that ensued. David Fincher's direction and Aaron Sorkin's sharp screenplay make this film a modern classic.\"\n",
            "\n",
            "8. \"Will Smith's portrayal of Chris Gardner in The Pursuit of Happyness is both touching and inspirational. This film reminds us that with determination and unwavering spirit, anyone can overcome adversity to achieve their dreams.\"\n",
            "\n",
            "9. \"Eternal Sunshine of the Spotless Mind is a beautifully unconventional love story. Jim Carrey and Kate Winslet shine in their roles, and the narrative, told in a non-linear fashion, is a poignant exploration of love, memories, and human connection.\"\n",
            "\n",
            "10. \"The Princess Bride is a timeless fairy tale with a perfect blend of humor, romance, and adventure. Its witty dialogue and memorable characters make it a film that appeals to both kids and adults. Inconceivably delightful!\"\n",
            "\n",
            "11. \"Fifty Shades of Grey\" has managed to captivate both enthusiasts and critics alike. The film's ability to spark passionate discussions and elicit a wide range of opinions is a testament to its impact. While some may find it controversial, there's no denying that it has left a significant mark on the world of cinema.\n",
            "\n",
            "12. \"This film has been a conversation starter, and it's clear that it won't be everyone's cup of tea. But for those willing to approach it with an open mind, there's a visually lush experience with moments of genuine chemistry between the leads. It's a film that has managed to offer something different and intriguing in the world of romance and drama.\"\n",
            "\n",
            "\n",
            "Negative Reviews:\n",
            "1. \"The Last Airbender is a disaster of a film adaptation. It butchers the beloved animated series with wooden acting, convoluted storytelling, and cringe-worthy special effects. A letdown for fans and newcomers alike.\"\n",
            "\n",
            "2. \"Another Transformers movie, and it's just more of the same: mindless explosions, incoherent plotlines, and an overreliance on CGI. This franchise desperately needs an overhaul.\"\n",
            "\n",
            "3. \"The Emoji Movie is a blatant cash grab with a shallow, uninspired plot. It fails to deliver clever humor or meaningful messages, making it a forgettable and disappointing animated film.\"\n",
            "\n",
            "4. \"Fifty Shades of Grey is a cringe-inducing attempt at romance. Poorly written dialogue and unconvincing chemistry between the leads make it an awkward and unfulfilling cinematic experience.\"\n",
            "\n",
            "5. \"Jack and Jill is an unbearable comedy that relies on stale humor and a painfully unfunny portrayal of Adam Sandler in a dual role. It's a prime example of lazy filmmaking.\"\n",
            "\n",
            "6. \"Superman IV is a colossal disappointment. It's marred by a low budget, laughable special effects, and a poorly conceived story. Even Christopher Reeve's charm can't save this mess.\"\n",
            "\n",
            "7. \"The Cat in the Hat is a chaotic and misguided adaptation of Dr. Seuss's classic. It sacrifices the charm and simplicity of the source material for crude humor and a lackluster narrative.\"\n",
            "\n",
            "8. \"The Room is widely regarded as one of the worst films ever made. Its disjointed plot, stilted acting, and bizarre dialogue have turned it into a cult classic, but not for the right reasons.\"\n",
            "\n",
            "9. \"Battlefield Earth is a sci-fi disaster. It's a convoluted mess with hammy acting and laughable special effects. A film that should have remained buried in the annals of cinematic history.\"\n",
            "\n",
            "10. \"Gigli is a train wreck of a romantic comedy. The pairing of Ben Affleck and Jennifer Lopez is devoid of chemistry, and the dialogue is cringeworthy. It's an embarrassing misstep in both their careers.\"\n",
            "\n",
            "11. \"Fifty Shades of Grey\" is a film that has divided enthusiasts and critics. While it has its share of devoted fans, it also faces substantial criticism. For some, the film's content and execution leave much to be desired, making it a polarizing cinematic experience. Viewer reactions may vary widely, so it's a movie that evokes strong opinions on both ends of the spectrum.\n",
            "\n",
            "12. \"This film's portrayal of relationships and themes may leave many viewers uncomfortable. It tests the limits of what some may find acceptable in mainstream cinema. So, while the idea of keeping an open mind is essential in film-watching, this particular movie might push that openness to its boundaries for some.\"\n",
            "\n"
          ]
        }
      ]
    },
    {
      "cell_type": "code",
      "source": [
        "print('Number of positive reviews: ', len(positive_reviews))\n",
        "print('Number of negative reviews: ', len(negative_reviews))"
      ],
      "metadata": {
        "colab": {
          "base_uri": "https://localhost:8080/"
        },
        "id": "7Gr_UjMHnkMr",
        "outputId": "ecbf46d3-2340-4fbb-c517-f25b1deefabf"
      },
      "execution_count": null,
      "outputs": [
        {
          "output_type": "stream",
          "name": "stdout",
          "text": [
            "Number of positive reviews:  12\n",
            "Number of negative reviews:  12\n"
          ]
        }
      ]
    },
    {
      "cell_type": "code",
      "source": [
        "sentiment_counts = [len(positive_reviews), len(negative_reviews)]\n",
        "sentiments = ['Positive Reviews', 'Negative Reviews']\n",
        "\n",
        "# Create a pie chart\n",
        "plt.figure(figsize=(8, 8))\n",
        "plt.pie(sentiment_counts, labels=sentiments, autopct='%1.1f%%', startangle=90)\n",
        "\n",
        "# Equal aspect ratio ensures that pie is drawn as a circle\n",
        "plt.axis('equal')\n",
        "\n",
        "# Display the chart\n",
        "plt.show()\n"
      ],
      "metadata": {
        "id": "zWDfBXpgn_Zh",
        "colab": {
          "base_uri": "https://localhost:8080/",
          "height": 653
        },
        "outputId": "c7fb1b99-0297-404e-c609-3882091e167a"
      },
      "execution_count": null,
      "outputs": [
        {
          "output_type": "display_data",
          "data": {
            "text/plain": [
              "<Figure size 800x800 with 1 Axes>"
            ],
            "image/png": "[encoded data removed]"
          },
          "metadata": {}
        }
      ]
    },
    {
      "cell_type": "markdown",
      "source": [
        "# **Preprocessing**"
      ],
      "metadata": {
        "id": "-CeOWm8tocNi"
      }
    },
    {
      "cell_type": "markdown",
      "source": [
        "# **Convert to Lowercase**"
      ],
      "metadata": {
        "id": "u857S7LLpJqM"
      }
    },
    {
      "cell_type": "code",
      "source": [
        "# Convert positive and negative reviews to lowercase\n",
        "positive_reviews_lower = [review.lower() for review in positive_reviews]\n",
        "negative_reviews_lower = [review.lower() for review in negative_reviews]\n",
        "\n",
        "# Display the lowercase reviews\n",
        "print(\"Positive Reviews (Lowercase):\", positive_reviews_lower)\n",
        "print(\"Negative Reviews (Lowercase):\", negative_reviews_lower)"
      ],
      "metadata": {
        "colab": {
          "base_uri": "https://localhost:8080/"
        },
        "id": "LwGC82QgozP6",
        "outputId": "198c69f5-4e8b-42f5-b2ed-ee451e082e95"
      },
      "execution_count": null,
      "outputs": [
        {
          "output_type": "stream",
          "name": "stdout",
          "text": [
            "Positive Reviews (Lowercase): ['1. \"forrest gump is an absolute masterpiece! tom hanks delivers an unforgettable performance, and the storytelling is heartwarming. this movie is a journey through life that will make you laugh, cry, and appreciate the simple beauties of existence.\"\\n', '2. \"the shawshank redemption is a timeless classic. the powerful themes of hope, friendship, and redemption make it a must-watch. morgan freeman and tim robbins give exceptional performances in this brilliantly crafted film.\"\\n', '3. \"the epic conclusion to the lord of the rings trilogy, the return of the king, is a cinematic triumph. the breathtaking visuals, epic battles, and emotionally resonant story make it a monumental achievement in filmmaking.\"\\n', '4. \"la la land is a love letter to the magic of hollywood and dreams. the chemistry between ryan gosling and emma stone is enchanting, and the music and dance sequences are a pure delight. a modern musical masterpiece.\"\\n', '5. \"wes anderson\\'s whimsical style shines in the grand budapest hotel. with its quirky characters and colorful cinematography, it\\'s a visual and narrative delight. this film is a charming and delightful experience.\"\\n', '6.\"inception is mind-bending brilliance! christopher nolan\\'s intricate plot, stunning visual effects, and hans zimmer\\'s haunting score create a cinematic journey that keeps you on the edge of your seat. a true masterpiece of sci-fi cinema.\"\\n', '7. \"the social network is a captivating exploration of the creation of facebook and the personal and legal conflicts that ensued. david fincher\\'s direction and aaron sorkin\\'s sharp screenplay make this film a modern classic.\"\\n', '8. \"will smith\\'s portrayal of chris gardner in the pursuit of happyness is both touching and inspirational. this film reminds us that with determination and unwavering spirit, anyone can overcome adversity to achieve their dreams.\"\\n', '9. \"eternal sunshine of the spotless mind is a beautifully unconventional love story. jim carrey and kate winslet shine in their roles, and the narrative, told in a non-linear fashion, is a poignant exploration of love, memories, and human connection.\"\\n', '10. \"the princess bride is a timeless fairy tale with a perfect blend of humor, romance, and adventure. its witty dialogue and memorable characters make it a film that appeals to both kids and adults. inconceivably delightful!\"\\n', '11. \"fifty shades of grey\" has managed to captivate both enthusiasts and critics alike. the film\\'s ability to spark passionate discussions and elicit a wide range of opinions is a testament to its impact. while some may find it controversial, there\\'s no denying that it has left a significant mark on the world of cinema.\\n', '12. \"this film has been a conversation starter, and it\\'s clear that it won\\'t be everyone\\'s cup of tea. but for those willing to approach it with an open mind, there\\'s a visually lush experience with moments of genuine chemistry between the leads. it\\'s a film that has managed to offer something different and intriguing in the world of romance and drama.\"\\n']\n",
            "Negative Reviews (Lowercase): ['1. \"the last airbender is a disaster of a film adaptation. it butchers the beloved animated series with wooden acting, convoluted storytelling, and cringe-worthy special effects. a letdown for fans and newcomers alike.\"\\n', '2. \"another transformers movie, and it\\'s just more of the same: mindless explosions, incoherent plotlines, and an overreliance on cgi. this franchise desperately needs an overhaul.\"\\n', '3. \"the emoji movie is a blatant cash grab with a shallow, uninspired plot. it fails to deliver clever humor or meaningful messages, making it a forgettable and disappointing animated film.\"\\n', '4. \"fifty shades of grey is a cringe-inducing attempt at romance. poorly written dialogue and unconvincing chemistry between the leads make it an awkward and unfulfilling cinematic experience.\"\\n', '5. \"jack and jill is an unbearable comedy that relies on stale humor and a painfully unfunny portrayal of adam sandler in a dual role. it\\'s a prime example of lazy filmmaking.\"\\n', '6. \"superman iv is a colossal disappointment. it\\'s marred by a low budget, laughable special effects, and a poorly conceived story. even christopher reeve\\'s charm can\\'t save this mess.\"\\n', '7. \"the cat in the hat is a chaotic and misguided adaptation of dr. seuss\\'s classic. it sacrifices the charm and simplicity of the source material for crude humor and a lackluster narrative.\"\\n', '8. \"the room is widely regarded as one of the worst films ever made. its disjointed plot, stilted acting, and bizarre dialogue have turned it into a cult classic, but not for the right reasons.\"\\n', '9. \"battlefield earth is a sci-fi disaster. it\\'s a convoluted mess with hammy acting and laughable special effects. a film that should have remained buried in the annals of cinematic history.\"\\n', '10. \"gigli is a train wreck of a romantic comedy. the pairing of ben affleck and jennifer lopez is devoid of chemistry, and the dialogue is cringeworthy. it\\'s an embarrassing misstep in both their careers.\"\\n', '11. \"fifty shades of grey\" is a film that has divided enthusiasts and critics. while it has its share of devoted fans, it also faces substantial criticism. for some, the film\\'s content and execution leave much to be desired, making it a polarizing cinematic experience. viewer reactions may vary widely, so it\\'s a movie that evokes strong opinions on both ends of the spectrum.\\n', '12. \"this film\\'s portrayal of relationships and themes may leave many viewers uncomfortable. it tests the limits of what some may find acceptable in mainstream cinema. so, while the idea of keeping an open mind is essential in film-watching, this particular movie might push that openness to its boundaries for some.\"\\n']\n"
          ]
        }
      ]
    },
    {
      "cell_type": "markdown",
      "source": [
        "# **Remove Punctuation**"
      ],
      "metadata": {
        "id": "4wll-SnlqXlU"
      }
    },
    {
      "cell_type": "code",
      "source": [
        "# Function to remove punctuation\n",
        "def remove_punctuation(text):\n",
        "    return re.sub(r'[^\\w\\s]', '', text)\n",
        "\n",
        "# Remove punctuation from positive and negative reviews\n",
        "positive_reviews_without_punct = [remove_punctuation(review) for review in positive_reviews_lower]\n",
        "negative_reviews_without_punct = [remove_punctuation(review) for review in negative_reviews_lower]\n",
        "\n",
        "# Display the reviews without punctuation\n",
        "print(\"Positive Reviews (No Punctuation):\", positive_reviews_without_punct)\n",
        "print(\"Negative Reviews (No Punctuation):\", negative_reviews_without_punct)"
      ],
      "metadata": {
        "colab": {
          "base_uri": "https://localhost:8080/"
        },
        "id": "vM7_nAI8qNlC",
        "outputId": "6ce93a77-387c-4542-a5f8-afe962bbc38f"
      },
      "execution_count": null,
      "outputs": [
        {
          "output_type": "stream",
          "name": "stdout",
          "text": [
            "Positive Reviews (No Punctuation): ['1 forrest gump is an absolute masterpiece tom hanks delivers an unforgettable performance and the storytelling is heartwarming this movie is a journey through life that will make you laugh cry and appreciate the simple beauties of existence\\n', '2 the shawshank redemption is a timeless classic the powerful themes of hope friendship and redemption make it a mustwatch morgan freeman and tim robbins give exceptional performances in this brilliantly crafted film\\n', '3 the epic conclusion to the lord of the rings trilogy the return of the king is a cinematic triumph the breathtaking visuals epic battles and emotionally resonant story make it a monumental achievement in filmmaking\\n', '4 la la land is a love letter to the magic of hollywood and dreams the chemistry between ryan gosling and emma stone is enchanting and the music and dance sequences are a pure delight a modern musical masterpiece\\n', '5 wes andersons whimsical style shines in the grand budapest hotel with its quirky characters and colorful cinematography its a visual and narrative delight this film is a charming and delightful experience\\n', '6inception is mindbending brilliance christopher nolans intricate plot stunning visual effects and hans zimmers haunting score create a cinematic journey that keeps you on the edge of your seat a true masterpiece of scifi cinema\\n', '7 the social network is a captivating exploration of the creation of facebook and the personal and legal conflicts that ensued david finchers direction and aaron sorkins sharp screenplay make this film a modern classic\\n', '8 will smiths portrayal of chris gardner in the pursuit of happyness is both touching and inspirational this film reminds us that with determination and unwavering spirit anyone can overcome adversity to achieve their dreams\\n', '9 eternal sunshine of the spotless mind is a beautifully unconventional love story jim carrey and kate winslet shine in their roles and the narrative told in a nonlinear fashion is a poignant exploration of love memories and human connection\\n', '10 the princess bride is a timeless fairy tale with a perfect blend of humor romance and adventure its witty dialogue and memorable characters make it a film that appeals to both kids and adults inconceivably delightful\\n', '11 fifty shades of grey has managed to captivate both enthusiasts and critics alike the films ability to spark passionate discussions and elicit a wide range of opinions is a testament to its impact while some may find it controversial theres no denying that it has left a significant mark on the world of cinema\\n', '12 this film has been a conversation starter and its clear that it wont be everyones cup of tea but for those willing to approach it with an open mind theres a visually lush experience with moments of genuine chemistry between the leads its a film that has managed to offer something different and intriguing in the world of romance and drama\\n']\n",
            "Negative Reviews (No Punctuation): ['1 the last airbender is a disaster of a film adaptation it butchers the beloved animated series with wooden acting convoluted storytelling and cringeworthy special effects a letdown for fans and newcomers alike\\n', '2 another transformers movie and its just more of the same mindless explosions incoherent plotlines and an overreliance on cgi this franchise desperately needs an overhaul\\n', '3 the emoji movie is a blatant cash grab with a shallow uninspired plot it fails to deliver clever humor or meaningful messages making it a forgettable and disappointing animated film\\n', '4 fifty shades of grey is a cringeinducing attempt at romance poorly written dialogue and unconvincing chemistry between the leads make it an awkward and unfulfilling cinematic experience\\n', '5 jack and jill is an unbearable comedy that relies on stale humor and a painfully unfunny portrayal of adam sandler in a dual role its a prime example of lazy filmmaking\\n', '6 superman iv is a colossal disappointment its marred by a low budget laughable special effects and a poorly conceived story even christopher reeves charm cant save this mess\\n', '7 the cat in the hat is a chaotic and misguided adaptation of dr seusss classic it sacrifices the charm and simplicity of the source material for crude humor and a lackluster narrative\\n', '8 the room is widely regarded as one of the worst films ever made its disjointed plot stilted acting and bizarre dialogue have turned it into a cult classic but not for the right reasons\\n', '9 battlefield earth is a scifi disaster its a convoluted mess with hammy acting and laughable special effects a film that should have remained buried in the annals of cinematic history\\n', '10 gigli is a train wreck of a romantic comedy the pairing of ben affleck and jennifer lopez is devoid of chemistry and the dialogue is cringeworthy its an embarrassing misstep in both their careers\\n', '11 fifty shades of grey is a film that has divided enthusiasts and critics while it has its share of devoted fans it also faces substantial criticism for some the films content and execution leave much to be desired making it a polarizing cinematic experience viewer reactions may vary widely so its a movie that evokes strong opinions on both ends of the spectrum\\n', '12 this films portrayal of relationships and themes may leave many viewers uncomfortable it tests the limits of what some may find acceptable in mainstream cinema so while the idea of keeping an open mind is essential in filmwatching this particular movie might push that openness to its boundaries for some\\n']\n"
          ]
        }
      ]
    },
    {
      "cell_type": "markdown",
      "source": [
        "# **Tokanizing**"
      ],
      "metadata": {
        "id": "xHPklIECrzgq"
      }
    },
    {
      "cell_type": "markdown",
      "source": [
        "This code performs the tokenization of both positive and negative reviews. First, it tokenizes each review into individual words using the word_tokenize function. Then, it flattens the lists of tokenized words for positive and negative reviews into single lists. Finally, it prints the tokenized words for both positive and negative reviews. The result is a list of individual words extracted from the reviews."
      ],
      "metadata": {
        "id": "5bML-oeFyVaW"
      }
    },
    {
      "cell_type": "code",
      "source": [
        "# Tokenize positive and negative reviews into words\n",
        "positive_reviews_tokenized = [word_tokenize(review) for review in positive_reviews_without_punct]\n",
        "negative_reviews_tokenized = [word_tokenize(review) for review in negative_reviews_without_punct]\n",
        "\n",
        "\n",
        "# Flatten the lists of tokenized words\n",
        "positive_reviews_flat = [word for review in positive_reviews_tokenized for word in review]\n",
        "negative_reviews_flat = [word for review in negative_reviews_tokenized for word in review]\n",
        "\n",
        "\n",
        "# Display the tokenized reviews\n",
        "print(\"Positive Reviews (Tokenized):\", positive_reviews_flat)\n",
        "print(\"Negative Reviews (Tokenized):\", negative_reviews_flat)"
      ],
      "metadata": {
        "colab": {
          "base_uri": "https://localhost:8080/"
        },
        "id": "QpZg6Gffp_pd",
        "outputId": "7a77d909-e96f-4af5-d030-1c8702462454"
      },
      "execution_count": null,
      "outputs": [
        {
          "output_type": "stream",
          "name": "stdout",
          "text": [
            "Positive Reviews (Tokenized): ['1', 'forrest', 'gump', 'is', 'an', 'absolute', 'masterpiece', 'tom', 'hanks', 'delivers', 'an', 'unforgettable', 'performance', 'and', 'the', 'storytelling', 'is', 'heartwarming', 'this', 'movie', 'is', 'a', 'journey', 'through', 'life', 'that', 'will', 'make', 'you', 'laugh', 'cry', 'and', 'appreciate', 'the', 'simple', 'beauties', 'of', 'existence', '2', 'the', 'shawshank', 'redemption', 'is', 'a', 'timeless', 'classic', 'the', 'powerful', 'themes', 'of', 'hope', 'friendship', 'and', 'redemption', 'make', 'it', 'a', 'mustwatch', 'morgan', 'freeman', 'and', 'tim', 'robbins', 'give', 'exceptional', 'performances', 'in', 'this', 'brilliantly', 'crafted', 'film', '3', 'the', 'epic', 'conclusion', 'to', 'the', 'lord', 'of', 'the', 'rings', 'trilogy', 'the', 'return', 'of', 'the', 'king', 'is', 'a', 'cinematic', 'triumph', 'the', 'breathtaking', 'visuals', 'epic', 'battles', 'and', 'emotionally', 'resonant', 'story', 'make', 'it', 'a', 'monumental', 'achievement', 'in', 'filmmaking', '4', 'la', 'la', 'land', 'is', 'a', 'love', 'letter', 'to', 'the', 'magic', 'of', 'hollywood', 'and', 'dreams', 'the', 'chemistry', 'between', 'ryan', 'gosling', 'and', 'emma', 'stone', 'is', 'enchanting', 'and', 'the', 'music', 'and', 'dance', 'sequences', 'are', 'a', 'pure', 'delight', 'a', 'modern', 'musical', 'masterpiece', '5', 'wes', 'andersons', 'whimsical', 'style', 'shines', 'in', 'the', 'grand', 'budapest', 'hotel', 'with', 'its', 'quirky', 'characters', 'and', 'colorful', 'cinematography', 'its', 'a', 'visual', 'and', 'narrative', 'delight', 'this', 'film', 'is', 'a', 'charming', 'and', 'delightful', 'experience', '6inception', 'is', 'mindbending', 'brilliance', 'christopher', 'nolans', 'intricate', 'plot', 'stunning', 'visual', 'effects', 'and', 'hans', 'zimmers', 'haunting', 'score', 'create', 'a', 'cinematic', 'journey', 'that', 'keeps', 'you', 'on', 'the', 'edge', 'of', 'your', 'seat', 'a', 'true', 'masterpiece', 'of', 'scifi', 'cinema', '7', 'the', 'social', 'network', 'is', 'a', 'captivating', 'exploration', 'of', 'the', 'creation', 'of', 'facebook', 'and', 'the', 'personal', 'and', 'legal', 'conflicts', 'that', 'ensued', 'david', 'finchers', 'direction', 'and', 'aaron', 'sorkins', 'sharp', 'screenplay', 'make', 'this', 'film', 'a', 'modern', 'classic', '8', 'will', 'smiths', 'portrayal', 'of', 'chris', 'gardner', 'in', 'the', 'pursuit', 'of', 'happyness', 'is', 'both', 'touching', 'and', 'inspirational', 'this', 'film', 'reminds', 'us', 'that', 'with', 'determination', 'and', 'unwavering', 'spirit', 'anyone', 'can', 'overcome', 'adversity', 'to', 'achieve', 'their', 'dreams', '9', 'eternal', 'sunshine', 'of', 'the', 'spotless', 'mind', 'is', 'a', 'beautifully', 'unconventional', 'love', 'story', 'jim', 'carrey', 'and', 'kate', 'winslet', 'shine', 'in', 'their', 'roles', 'and', 'the', 'narrative', 'told', 'in', 'a', 'nonlinear', 'fashion', 'is', 'a', 'poignant', 'exploration', 'of', 'love', 'memories', 'and', 'human', 'connection', '10', 'the', 'princess', 'bride', 'is', 'a', 'timeless', 'fairy', 'tale', 'with', 'a', 'perfect', 'blend', 'of', 'humor', 'romance', 'and', 'adventure', 'its', 'witty', 'dialogue', 'and', 'memorable', 'characters', 'make', 'it', 'a', 'film', 'that', 'appeals', 'to', 'both', 'kids', 'and', 'adults', 'inconceivably', 'delightful', '11', 'fifty', 'shades', 'of', 'grey', 'has', 'managed', 'to', 'captivate', 'both', 'enthusiasts', 'and', 'critics', 'alike', 'the', 'films', 'ability', 'to', 'spark', 'passionate', 'discussions', 'and', 'elicit', 'a', 'wide', 'range', 'of', 'opinions', 'is', 'a', 'testament', 'to', 'its', 'impact', 'while', 'some', 'may', 'find', 'it', 'controversial', 'theres', 'no', 'denying', 'that', 'it', 'has', 'left', 'a', 'significant', 'mark', 'on', 'the', 'world', 'of', 'cinema', '12', 'this', 'film', 'has', 'been', 'a', 'conversation', 'starter', 'and', 'its', 'clear', 'that', 'it', 'wont', 'be', 'everyones', 'cup', 'of', 'tea', 'but', 'for', 'those', 'willing', 'to', 'approach', 'it', 'with', 'an', 'open', 'mind', 'theres', 'a', 'visually', 'lush', 'experience', 'with', 'moments', 'of', 'genuine', 'chemistry', 'between', 'the', 'leads', 'its', 'a', 'film', 'that', 'has', 'managed', 'to', 'offer', 'something', 'different', 'and', 'intriguing', 'in', 'the', 'world', 'of', 'romance', 'and', 'drama']\n",
            "Negative Reviews (Tokenized): ['1', 'the', 'last', 'airbender', 'is', 'a', 'disaster', 'of', 'a', 'film', 'adaptation', 'it', 'butchers', 'the', 'beloved', 'animated', 'series', 'with', 'wooden', 'acting', 'convoluted', 'storytelling', 'and', 'cringeworthy', 'special', 'effects', 'a', 'letdown', 'for', 'fans', 'and', 'newcomers', 'alike', '2', 'another', 'transformers', 'movie', 'and', 'its', 'just', 'more', 'of', 'the', 'same', 'mindless', 'explosions', 'incoherent', 'plotlines', 'and', 'an', 'overreliance', 'on', 'cgi', 'this', 'franchise', 'desperately', 'needs', 'an', 'overhaul', '3', 'the', 'emoji', 'movie', 'is', 'a', 'blatant', 'cash', 'grab', 'with', 'a', 'shallow', 'uninspired', 'plot', 'it', 'fails', 'to', 'deliver', 'clever', 'humor', 'or', 'meaningful', 'messages', 'making', 'it', 'a', 'forgettable', 'and', 'disappointing', 'animated', 'film', '4', 'fifty', 'shades', 'of', 'grey', 'is', 'a', 'cringeinducing', 'attempt', 'at', 'romance', 'poorly', 'written', 'dialogue', 'and', 'unconvincing', 'chemistry', 'between', 'the', 'leads', 'make', 'it', 'an', 'awkward', 'and', 'unfulfilling', 'cinematic', 'experience', '5', 'jack', 'and', 'jill', 'is', 'an', 'unbearable', 'comedy', 'that', 'relies', 'on', 'stale', 'humor', 'and', 'a', 'painfully', 'unfunny', 'portrayal', 'of', 'adam', 'sandler', 'in', 'a', 'dual', 'role', 'its', 'a', 'prime', 'example', 'of', 'lazy', 'filmmaking', '6', 'superman', 'iv', 'is', 'a', 'colossal', 'disappointment', 'its', 'marred', 'by', 'a', 'low', 'budget', 'laughable', 'special', 'effects', 'and', 'a', 'poorly', 'conceived', 'story', 'even', 'christopher', 'reeves', 'charm', 'cant', 'save', 'this', 'mess', '7', 'the', 'cat', 'in', 'the', 'hat', 'is', 'a', 'chaotic', 'and', 'misguided', 'adaptation', 'of', 'dr', 'seusss', 'classic', 'it', 'sacrifices', 'the', 'charm', 'and', 'simplicity', 'of', 'the', 'source', 'material', 'for', 'crude', 'humor', 'and', 'a', 'lackluster', 'narrative', '8', 'the', 'room', 'is', 'widely', 'regarded', 'as', 'one', 'of', 'the', 'worst', 'films', 'ever', 'made', 'its', 'disjointed', 'plot', 'stilted', 'acting', 'and', 'bizarre', 'dialogue', 'have', 'turned', 'it', 'into', 'a', 'cult', 'classic', 'but', 'not', 'for', 'the', 'right', 'reasons', '9', 'battlefield', 'earth', 'is', 'a', 'scifi', 'disaster', 'its', 'a', 'convoluted', 'mess', 'with', 'hammy', 'acting', 'and', 'laughable', 'special', 'effects', 'a', 'film', 'that', 'should', 'have', 'remained', 'buried', 'in', 'the', 'annals', 'of', 'cinematic', 'history', '10', 'gigli', 'is', 'a', 'train', 'wreck', 'of', 'a', 'romantic', 'comedy', 'the', 'pairing', 'of', 'ben', 'affleck', 'and', 'jennifer', 'lopez', 'is', 'devoid', 'of', 'chemistry', 'and', 'the', 'dialogue', 'is', 'cringeworthy', 'its', 'an', 'embarrassing', 'misstep', 'in', 'both', 'their', 'careers', '11', 'fifty', 'shades', 'of', 'grey', 'is', 'a', 'film', 'that', 'has', 'divided', 'enthusiasts', 'and', 'critics', 'while', 'it', 'has', 'its', 'share', 'of', 'devoted', 'fans', 'it', 'also', 'faces', 'substantial', 'criticism', 'for', 'some', 'the', 'films', 'content', 'and', 'execution', 'leave', 'much', 'to', 'be', 'desired', 'making', 'it', 'a', 'polarizing', 'cinematic', 'experience', 'viewer', 'reactions', 'may', 'vary', 'widely', 'so', 'its', 'a', 'movie', 'that', 'evokes', 'strong', 'opinions', 'on', 'both', 'ends', 'of', 'the', 'spectrum', '12', 'this', 'films', 'portrayal', 'of', 'relationships', 'and', 'themes', 'may', 'leave', 'many', 'viewers', 'uncomfortable', 'it', 'tests', 'the', 'limits', 'of', 'what', 'some', 'may', 'find', 'acceptable', 'in', 'mainstream', 'cinema', 'so', 'while', 'the', 'idea', 'of', 'keeping', 'an', 'open', 'mind', 'is', 'essential', 'in', 'filmwatching', 'this', 'particular', 'movie', 'might', 'push', 'that', 'openness', 'to', 'its', 'boundaries', 'for', 'some']\n"
          ]
        }
      ]
    },
    {
      "cell_type": "markdown",
      "source": [
        "# **Remove Stop words and Lemmatization**"
      ],
      "metadata": {
        "id": "icuWM3X93XXT"
      }
    },
    {
      "cell_type": "markdown",
      "source": [
        "In this code it begins by performing part-of-speech tagging to categorize words into their grammatical roles. Stop words are removed, and any numbers are filtered out. The remaining words are lemmatized based on their part-of-speech tags, reducing them to their base forms. The result is a list of preprocessed words for both positive and negative reviews."
      ],
      "metadata": {
        "id": "KSUel54Ar-ql"
      }
    },
    {
      "cell_type": "code",
      "source": [
        "def get_wordnet_pos(tag):\n",
        "    # Map POS tag to WordNet POS tag\n",
        "    tag_dict = {\"N\": \"n\", \"V\": \"v\", \"R\": \"r\", \"J\": \"a\"}\n",
        "    return tag_dict.get(tag[0], 'n')  # Default to noun if not found\n",
        "\n",
        "def lemmatize_reviews(reviews):\n",
        "    # Perform part-of-speech tagging\n",
        "    reviews_pos = pos_tag(reviews)\n",
        "\n",
        "    # Define stop words and remove them, also remove numbers\n",
        "    stop_words = set(stopwords.words(\"english\"))\n",
        "\n",
        "    reviews_filtered = [word for word, pos in reviews_pos if word not in stop_words and word.isalpha()]\n",
        "\n",
        "    # Lemmatize the filtered words based on POS\n",
        "    lemmatizer = WordNetLemmatizer()\n",
        "    reviews_lemmatized = [lemmatizer.lemmatize(word, pos=get_wordnet_pos(pos)) for word, pos in pos_tag(reviews_filtered)]\n",
        "\n",
        "    return reviews_lemmatized\n",
        "\n",
        "# Preprocess positive and negative reviews\n",
        "cleaned_positive_reviews = lemmatize_reviews(positive_reviews_flat)\n",
        "cleaned_negative_reviews = lemmatize_reviews(negative_reviews_flat)\n",
        "\n",
        "# Display the preprocessed reviews\n",
        "print(\"Positive Reviews (Preprocessed):\", cleaned_positive_reviews)\n",
        "print(\"Negative Reviews (Preprocessed):\", cleaned_negative_reviews)"
      ],
      "metadata": {
        "colab": {
          "base_uri": "https://localhost:8080/"
        },
        "id": "Ipvmk0in57a2",
        "outputId": "4b1d3d54-76f4-414b-d6cc-ff547c90347b"
      },
      "execution_count": null,
      "outputs": [
        {
          "output_type": "stream",
          "name": "stdout",
          "text": [
            "Positive Reviews (Preprocessed): ['forrest', 'gump', 'absolute', 'masterpiece', 'tom', 'hank', 'delivers', 'unforgettable', 'performance', 'storytelling', 'heartwarming', 'movie', 'journey', 'life', 'make', 'laugh', 'cry', 'appreciate', 'simple', 'beauty', 'existence', 'shawshank', 'redemption', 'timeless', 'classic', 'powerful', 'theme', 'hope', 'friendship', 'redemption', 'make', 'mustwatch', 'morgan', 'freeman', 'tim', 'robbins', 'give', 'exceptional', 'performance', 'brilliantly', 'craft', 'film', 'epic', 'conclusion', 'lord', 'ring', 'trilogy', 'return', 'king', 'cinematic', 'triumph', 'breathtaking', 'visuals', 'epic', 'battle', 'emotionally', 'resonant', 'story', 'make', 'monumental', 'achievement', 'filmmaking', 'la', 'la', 'land', 'love', 'letter', 'magic', 'hollywood', 'dream', 'chemistry', 'ryan', 'gosling', 'emma', 'stone', 'enchant', 'music', 'dance', 'sequence', 'pure', 'delight', 'modern', 'musical', 'masterpiece', 'wes', 'anderson', 'whimsical', 'style', 'shine', 'grand', 'budapest', 'hotel', 'quirky', 'character', 'colorful', 'cinematography', 'visual', 'narrative', 'delight', 'film', 'charm', 'delightful', 'experience', 'mindbending', 'brilliance', 'christopher', 'nolans', 'intricate', 'plot', 'stun', 'visual', 'effect', 'hans', 'zimmer', 'haunt', 'score', 'create', 'cinematic', 'journey', 'keep', 'edge', 'seat', 'true', 'masterpiece', 'scifi', 'cinema', 'social', 'network', 'captivate', 'exploration', 'creation', 'facebook', 'personal', 'legal', 'conflict', 'ensue', 'david', 'finchers', 'direction', 'aaron', 'sorkins', 'sharp', 'screenplay', 'make', 'film', 'modern', 'classic', 'smith', 'portrayal', 'chris', 'gardner', 'pursuit', 'happyness', 'touch', 'inspirational', 'film', 'remind', 'u', 'determination', 'unwavering', 'spirit', 'anyone', 'overcome', 'adversity', 'achieve', 'dream', 'eternal', 'sunshine', 'spotless', 'mind', 'beautifully', 'unconventional', 'love', 'story', 'jim', 'carrey', 'kate', 'winslet', 'shine', 'role', 'narrative', 'tell', 'nonlinear', 'fashion', 'poignant', 'exploration', 'love', 'memory', 'human', 'connection', 'princess', 'bride', 'timeless', 'fairy', 'tale', 'perfect', 'blend', 'humor', 'romance', 'adventure', 'witty', 'dialogue', 'memorable', 'character', 'make', 'film', 'appeal', 'kid', 'adult', 'inconceivably', 'delightful', 'fifty', 'shade', 'grey', 'manage', 'captivate', 'enthusiast', 'critic', 'alike', 'film', 'ability', 'spark', 'passionate', 'discussion', 'elicit', 'wide', 'range', 'opinion', 'testament', 'impact', 'may', 'find', 'controversial', 'there', 'deny', 'leave', 'significant', 'mark', 'world', 'cinema', 'film', 'conversation', 'starter', 'clear', 'wont', 'everyones', 'cup', 'tea', 'willing', 'approach', 'open', 'mind', 'there', 'visually', 'lush', 'experience', 'moment', 'genuine', 'chemistry', 'lead', 'film', 'manage', 'offer', 'something', 'different', 'intriguing', 'world', 'romance', 'drama']\n",
            "Negative Reviews (Preprocessed): ['last', 'airbender', 'disaster', 'film', 'adaptation', 'butcher', 'beloved', 'animated', 'series', 'wooden', 'act', 'convolute', 'storytelling', 'cringeworthy', 'special', 'effect', 'letdown', 'fan', 'newcomer', 'alike', 'another', 'transformer', 'movie', 'mindless', 'explosion', 'incoherent', 'plotlines', 'overreliance', 'cgi', 'franchise', 'desperately', 'need', 'overhaul', 'emoji', 'movie', 'blatant', 'cash', 'grab', 'shallow', 'uninspired', 'plot', 'fails', 'deliver', 'clever', 'humor', 'meaningful', 'message', 'make', 'forgettable', 'disappointing', 'animate', 'film', 'fifty', 'shade', 'grey', 'cringeinducing', 'attempt', 'romance', 'poorly', 'write', 'dialogue', 'unconvincing', 'chemistry', 'lead', 'make', 'awkward', 'unfulfilling', 'cinematic', 'experience', 'jack', 'jill', 'unbearable', 'comedy', 'relies', 'stale', 'humor', 'painfully', 'unfunny', 'portrayal', 'adam', 'sandler', 'dual', 'role', 'prime', 'example', 'lazy', 'filmmaking', 'superman', 'iv', 'colossal', 'disappointment', 'mar', 'low', 'budget', 'laughable', 'special', 'effect', 'poorly', 'conceive', 'story', 'even', 'christopher', 'reef', 'charm', 'cant', 'save', 'mess', 'cat', 'hat', 'chaotic', 'misguide', 'adaptation', 'dr', 'seusss', 'classic', 'sacrifice', 'charm', 'simplicity', 'source', 'material', 'crude', 'humor', 'lackluster', 'narrative', 'room', 'widely', 'regard', 'one', 'bad', 'film', 'ever', 'make', 'disjoint', 'plot', 'stilted', 'act', 'bizarre', 'dialogue', 'turn', 'cult', 'classic', 'right', 'reason', 'battlefield', 'earth', 'scifi', 'disaster', 'convolute', 'mess', 'hammy', 'act', 'laughable', 'special', 'effect', 'film', 'remain', 'buried', 'annals', 'cinematic', 'history', 'gigli', 'train', 'wreck', 'romantic', 'comedy', 'pair', 'ben', 'affleck', 'jennifer', 'lopez', 'devoid', 'chemistry', 'dialogue', 'cringeworthy', 'embarrass', 'misstep', 'career', 'fifty', 'shade', 'grey', 'film', 'divide', 'enthusiast', 'critic', 'share', 'devote', 'fan', 'also', 'face', 'substantial', 'criticism', 'film', 'content', 'execution', 'leave', 'much', 'desire', 'make', 'polarize', 'cinematic', 'experience', 'viewer', 'reaction', 'may', 'vary', 'widely', 'movie', 'evokes', 'strong', 'opinion', 'end', 'spectrum', 'film', 'portrayal', 'relationship', 'theme', 'may', 'leave', 'many', 'viewer', 'uncomfortable', 'test', 'limit', 'may', 'find', 'acceptable', 'mainstream', 'cinema', 'idea', 'keep', 'open', 'mind', 'essential', 'filmwatching', 'particular', 'movie', 'might', 'push', 'openness', 'boundary']\n"
          ]
        }
      ]
    },
    {
      "cell_type": "markdown",
      "source": [
        "# **Implement Bigram Model**"
      ],
      "metadata": {
        "id": "bmZxfeJll2xA"
      }
    },
    {
      "cell_type": "markdown",
      "source": [
        "Since this is a small dataset, I chose the Bigram model. Using higher N-values, such as trigrams or more would require more extensive training data to provide accurate and reliable predictions. With a bigram model, I focus on pairs of consecutive words, making it more suitable for smaller datasets where higher order N-grams may result in unreliable statistics.\n",
        "\n",
        "Unigrams consider each word in isolation and do not capture the contextual information provided by bigrams or higher order N-grams. In sentiment analysis and language modeling, context plays a crucial role in understanding the meaning and sentiment of text. Therefore, unigrams may not adequately capture the associations between words that are vital for sentiment analysis.\n"
      ],
      "metadata": {
        "id": "F_OXN3_sIH7o"
      }
    },
    {
      "cell_type": "code",
      "source": [
        "# Generate bigrams for positive and negative reviews\n",
        "positive_bigrams = list(bigrams(cleaned_positive_reviews))\n",
        "negative_bigrams = list(bigrams(cleaned_negative_reviews))\n",
        "\n",
        "print(positive_bigrams)\n",
        "print(negative_bigrams)"
      ],
      "metadata": {
        "id": "EnQnjW651hJu",
        "colab": {
          "base_uri": "https://localhost:8080/"
        },
        "outputId": "f440576f-3165-4266-abd0-932abcb0c3b7"
      },
      "execution_count": null,
      "outputs": [
        {
          "output_type": "stream",
          "name": "stdout",
          "text": [
            "[('forrest', 'gump'), ('gump', 'absolute'), ('absolute', 'masterpiece'), ('masterpiece', 'tom'), ('tom', 'hank'), ('hank', 'delivers'), ('delivers', 'unforgettable'), ('unforgettable', 'performance'), ('performance', 'storytelling'), ('storytelling', 'heartwarming'), ('heartwarming', 'movie'), ('movie', 'journey'), ('journey', 'life'), ('life', 'make'), ('make', 'laugh'), ('laugh', 'cry'), ('cry', 'appreciate'), ('appreciate', 'simple'), ('simple', 'beauty'), ('beauty', 'existence'), ('existence', 'shawshank'), ('shawshank', 'redemption'), ('redemption', 'timeless'), ('timeless', 'classic'), ('classic', 'powerful'), ('powerful', 'theme'), ('theme', 'hope'), ('hope', 'friendship'), ('friendship', 'redemption'), ('redemption', 'make'), ('make', 'mustwatch'), ('mustwatch', 'morgan'), ('morgan', 'freeman'), ('freeman', 'tim'), ('tim', 'robbins'), ('robbins', 'give'), ('give', 'exceptional'), ('exceptional', 'performance'), ('performance', 'brilliantly'), ('brilliantly', 'craft'), ('craft', 'film'), ('film', 'epic'), ('epic', 'conclusion'), ('conclusion', 'lord'), ('lord', 'ring'), ('ring', 'trilogy'), ('trilogy', 'return'), ('return', 'king'), ('king', 'cinematic'), ('cinematic', 'triumph'), ('triumph', 'breathtaking'), ('breathtaking', 'visuals'), ('visuals', 'epic'), ('epic', 'battle'), ('battle', 'emotionally'), ('emotionally', 'resonant'), ('resonant', 'story'), ('story', 'make'), ('make', 'monumental'), ('monumental', 'achievement'), ('achievement', 'filmmaking'), ('filmmaking', 'la'), ('la', 'la'), ('la', 'land'), ('land', 'love'), ('love', 'letter'), ('letter', 'magic'), ('magic', 'hollywood'), ('hollywood', 'dream'), ('dream', 'chemistry'), ('chemistry', 'ryan'), ('ryan', 'gosling'), ('gosling', 'emma'), ('emma', 'stone'), ('stone', 'enchant'), ('enchant', 'music'), ('music', 'dance'), ('dance', 'sequence'), ('sequence', 'pure'), ('pure', 'delight'), ('delight', 'modern'), ('modern', 'musical'), ('musical', 'masterpiece'), ('masterpiece', 'wes'), ('wes', 'anderson'), ('anderson', 'whimsical'), ('whimsical', 'style'), ('style', 'shine'), ('shine', 'grand'), ('grand', 'budapest'), ('budapest', 'hotel'), ('hotel', 'quirky'), ('quirky', 'character'), ('character', 'colorful'), ('colorful', 'cinematography'), ('cinematography', 'visual'), ('visual', 'narrative'), ('narrative', 'delight'), ('delight', 'film'), ('film', 'charm'), ('charm', 'delightful'), ('delightful', 'experience'), ('experience', 'mindbending'), ('mindbending', 'brilliance'), ('brilliance', 'christopher'), ('christopher', 'nolans'), ('nolans', 'intricate'), ('intricate', 'plot'), ('plot', 'stun'), ('stun', 'visual'), ('visual', 'effect'), ('effect', 'hans'), ('hans', 'zimmer'), ('zimmer', 'haunt'), ('haunt', 'score'), ('score', 'create'), ('create', 'cinematic'), ('cinematic', 'journey'), ('journey', 'keep'), ('keep', 'edge'), ('edge', 'seat'), ('seat', 'true'), ('true', 'masterpiece'), ('masterpiece', 'scifi'), ('scifi', 'cinema'), ('cinema', 'social'), ('social', 'network'), ('network', 'captivate'), ('captivate', 'exploration'), ('exploration', 'creation'), ('creation', 'facebook'), ('facebook', 'personal'), ('personal', 'legal'), ('legal', 'conflict'), ('conflict', 'ensue'), ('ensue', 'david'), ('david', 'finchers'), ('finchers', 'direction'), ('direction', 'aaron'), ('aaron', 'sorkins'), ('sorkins', 'sharp'), ('sharp', 'screenplay'), ('screenplay', 'make'), ('make', 'film'), ('film', 'modern'), ('modern', 'classic'), ('classic', 'smith'), ('smith', 'portrayal'), ('portrayal', 'chris'), ('chris', 'gardner'), ('gardner', 'pursuit'), ('pursuit', 'happyness'), ('happyness', 'touch'), ('touch', 'inspirational'), ('inspirational', 'film'), ('film', 'remind'), ('remind', 'u'), ('u', 'determination'), ('determination', 'unwavering'), ('unwavering', 'spirit'), ('spirit', 'anyone'), ('anyone', 'overcome'), ('overcome', 'adversity'), ('adversity', 'achieve'), ('achieve', 'dream'), ('dream', 'eternal'), ('eternal', 'sunshine'), ('sunshine', 'spotless'), ('spotless', 'mind'), ('mind', 'beautifully'), ('beautifully', 'unconventional'), ('unconventional', 'love'), ('love', 'story'), ('story', 'jim'), ('jim', 'carrey'), ('carrey', 'kate'), ('kate', 'winslet'), ('winslet', 'shine'), ('shine', 'role'), ('role', 'narrative'), ('narrative', 'tell'), ('tell', 'nonlinear'), ('nonlinear', 'fashion'), ('fashion', 'poignant'), ('poignant', 'exploration'), ('exploration', 'love'), ('love', 'memory'), ('memory', 'human'), ('human', 'connection'), ('connection', 'princess'), ('princess', 'bride'), ('bride', 'timeless'), ('timeless', 'fairy'), ('fairy', 'tale'), ('tale', 'perfect'), ('perfect', 'blend'), ('blend', 'humor'), ('humor', 'romance'), ('romance', 'adventure'), ('adventure', 'witty'), ('witty', 'dialogue'), ('dialogue', 'memorable'), ('memorable', 'character'), ('character', 'make'), ('make', 'film'), ('film', 'appeal'), ('appeal', 'kid'), ('kid', 'adult'), ('adult', 'inconceivably'), ('inconceivably', 'delightful'), ('delightful', 'fifty'), ('fifty', 'shade'), ('shade', 'grey'), ('grey', 'manage'), ('manage', 'captivate'), ('captivate', 'enthusiast'), ('enthusiast', 'critic'), ('critic', 'alike'), ('alike', 'film'), ('film', 'ability'), ('ability', 'spark'), ('spark', 'passionate'), ('passionate', 'discussion'), ('discussion', 'elicit'), ('elicit', 'wide'), ('wide', 'range'), ('range', 'opinion'), ('opinion', 'testament'), ('testament', 'impact'), ('impact', 'may'), ('may', 'find'), ('find', 'controversial'), ('controversial', 'there'), ('there', 'deny'), ('deny', 'leave'), ('leave', 'significant'), ('significant', 'mark'), ('mark', 'world'), ('world', 'cinema'), ('cinema', 'film'), ('film', 'conversation'), ('conversation', 'starter'), ('starter', 'clear'), ('clear', 'wont'), ('wont', 'everyones'), ('everyones', 'cup'), ('cup', 'tea'), ('tea', 'willing'), ('willing', 'approach'), ('approach', 'open'), ('open', 'mind'), ('mind', 'there'), ('there', 'visually'), ('visually', 'lush'), ('lush', 'experience'), ('experience', 'moment'), ('moment', 'genuine'), ('genuine', 'chemistry'), ('chemistry', 'lead'), ('lead', 'film'), ('film', 'manage'), ('manage', 'offer'), ('offer', 'something'), ('something', 'different'), ('different', 'intriguing'), ('intriguing', 'world'), ('world', 'romance'), ('romance', 'drama')]\n",
            "[('last', 'airbender'), ('airbender', 'disaster'), ('disaster', 'film'), ('film', 'adaptation'), ('adaptation', 'butcher'), ('butcher', 'beloved'), ('beloved', 'animated'), ('animated', 'series'), ('series', 'wooden'), ('wooden', 'act'), ('act', 'convolute'), ('convolute', 'storytelling'), ('storytelling', 'cringeworthy'), ('cringeworthy', 'special'), ('special', 'effect'), ('effect', 'letdown'), ('letdown', 'fan'), ('fan', 'newcomer'), ('newcomer', 'alike'), ('alike', 'another'), ('another', 'transformer'), ('transformer', 'movie'), ('movie', 'mindless'), ('mindless', 'explosion'), ('explosion', 'incoherent'), ('incoherent', 'plotlines'), ('plotlines', 'overreliance'), ('overreliance', 'cgi'), ('cgi', 'franchise'), ('franchise', 'desperately'), ('desperately', 'need'), ('need', 'overhaul'), ('overhaul', 'emoji'), ('emoji', 'movie'), ('movie', 'blatant'), ('blatant', 'cash'), ('cash', 'grab'), ('grab', 'shallow'), ('shallow', 'uninspired'), ('uninspired', 'plot'), ('plot', 'fails'), ('fails', 'deliver'), ('deliver', 'clever'), ('clever', 'humor'), ('humor', 'meaningful'), ('meaningful', 'message'), ('message', 'make'), ('make', 'forgettable'), ('forgettable', 'disappointing'), ('disappointing', 'animate'), ('animate', 'film'), ('film', 'fifty'), ('fifty', 'shade'), ('shade', 'grey'), ('grey', 'cringeinducing'), ('cringeinducing', 'attempt'), ('attempt', 'romance'), ('romance', 'poorly'), ('poorly', 'write'), ('write', 'dialogue'), ('dialogue', 'unconvincing'), ('unconvincing', 'chemistry'), ('chemistry', 'lead'), ('lead', 'make'), ('make', 'awkward'), ('awkward', 'unfulfilling'), ('unfulfilling', 'cinematic'), ('cinematic', 'experience'), ('experience', 'jack'), ('jack', 'jill'), ('jill', 'unbearable'), ('unbearable', 'comedy'), ('comedy', 'relies'), ('relies', 'stale'), ('stale', 'humor'), ('humor', 'painfully'), ('painfully', 'unfunny'), ('unfunny', 'portrayal'), ('portrayal', 'adam'), ('adam', 'sandler'), ('sandler', 'dual'), ('dual', 'role'), ('role', 'prime'), ('prime', 'example'), ('example', 'lazy'), ('lazy', 'filmmaking'), ('filmmaking', 'superman'), ('superman', 'iv'), ('iv', 'colossal'), ('colossal', 'disappointment'), ('disappointment', 'mar'), ('mar', 'low'), ('low', 'budget'), ('budget', 'laughable'), ('laughable', 'special'), ('special', 'effect'), ('effect', 'poorly'), ('poorly', 'conceive'), ('conceive', 'story'), ('story', 'even'), ('even', 'christopher'), ('christopher', 'reef'), ('reef', 'charm'), ('charm', 'cant'), ('cant', 'save'), ('save', 'mess'), ('mess', 'cat'), ('cat', 'hat'), ('hat', 'chaotic'), ('chaotic', 'misguide'), ('misguide', 'adaptation'), ('adaptation', 'dr'), ('dr', 'seusss'), ('seusss', 'classic'), ('classic', 'sacrifice'), ('sacrifice', 'charm'), ('charm', 'simplicity'), ('simplicity', 'source'), ('source', 'material'), ('material', 'crude'), ('crude', 'humor'), ('humor', 'lackluster'), ('lackluster', 'narrative'), ('narrative', 'room'), ('room', 'widely'), ('widely', 'regard'), ('regard', 'one'), ('one', 'bad'), ('bad', 'film'), ('film', 'ever'), ('ever', 'make'), ('make', 'disjoint'), ('disjoint', 'plot'), ('plot', 'stilted'), ('stilted', 'act'), ('act', 'bizarre'), ('bizarre', 'dialogue'), ('dialogue', 'turn'), ('turn', 'cult'), ('cult', 'classic'), ('classic', 'right'), ('right', 'reason'), ('reason', 'battlefield'), ('battlefield', 'earth'), ('earth', 'scifi'), ('scifi', 'disaster'), ('disaster', 'convolute'), ('convolute', 'mess'), ('mess', 'hammy'), ('hammy', 'act'), ('act', 'laughable'), ('laughable', 'special'), ('special', 'effect'), ('effect', 'film'), ('film', 'remain'), ('remain', 'buried'), ('buried', 'annals'), ('annals', 'cinematic'), ('cinematic', 'history'), ('history', 'gigli'), ('gigli', 'train'), ('train', 'wreck'), ('wreck', 'romantic'), ('romantic', 'comedy'), ('comedy', 'pair'), ('pair', 'ben'), ('ben', 'affleck'), ('affleck', 'jennifer'), ('jennifer', 'lopez'), ('lopez', 'devoid'), ('devoid', 'chemistry'), ('chemistry', 'dialogue'), ('dialogue', 'cringeworthy'), ('cringeworthy', 'embarrass'), ('embarrass', 'misstep'), ('misstep', 'career'), ('career', 'fifty'), ('fifty', 'shade'), ('shade', 'grey'), ('grey', 'film'), ('film', 'divide'), ('divide', 'enthusiast'), ('enthusiast', 'critic'), ('critic', 'share'), ('share', 'devote'), ('devote', 'fan'), ('fan', 'also'), ('also', 'face'), ('face', 'substantial'), ('substantial', 'criticism'), ('criticism', 'film'), ('film', 'content'), ('content', 'execution'), ('execution', 'leave'), ('leave', 'much'), ('much', 'desire'), ('desire', 'make'), ('make', 'polarize'), ('polarize', 'cinematic'), ('cinematic', 'experience'), ('experience', 'viewer'), ('viewer', 'reaction'), ('reaction', 'may'), ('may', 'vary'), ('vary', 'widely'), ('widely', 'movie'), ('movie', 'evokes'), ('evokes', 'strong'), ('strong', 'opinion'), ('opinion', 'end'), ('end', 'spectrum'), ('spectrum', 'film'), ('film', 'portrayal'), ('portrayal', 'relationship'), ('relationship', 'theme'), ('theme', 'may'), ('may', 'leave'), ('leave', 'many'), ('many', 'viewer'), ('viewer', 'uncomfortable'), ('uncomfortable', 'test'), ('test', 'limit'), ('limit', 'may'), ('may', 'find'), ('find', 'acceptable'), ('acceptable', 'mainstream'), ('mainstream', 'cinema'), ('cinema', 'idea'), ('idea', 'keep'), ('keep', 'open'), ('open', 'mind'), ('mind', 'essential'), ('essential', 'filmwatching'), ('filmwatching', 'particular'), ('particular', 'movie'), ('movie', 'might'), ('might', 'push'), ('push', 'openness'), ('openness', 'boundary')]\n"
          ]
        }
      ]
    },
    {
      "cell_type": "code",
      "source": [
        "# Calculate Bigram probabilities for each Bigram in the corpus\n",
        "\n",
        "def calculate_bigram_probabilities(bigrams,unigrams):\n",
        "    bigram_probabilities = {}\n",
        "    for bigram in bigrams:\n",
        "        word1, word2 = bigram\n",
        "        bigram_count = bigrams.count(bigram)\n",
        "        unigram_count = unigrams.count(word1)\n",
        "        bigram_probabilities[bigram] = (bigram_count) / (unigram_count)\n",
        "\n",
        "    return bigram_probabilities\n",
        "\n",
        "positive_bigram_probabilities = calculate_bigram_probabilities(positive_bigrams, cleaned_positive_reviews)\n",
        "negative_bigram_probabilities = calculate_bigram_probabilities(negative_bigrams, cleaned_negative_reviews)\n",
        "\n",
        "print(positive_bigram_probabilities)\n",
        "print(negative_bigram_probabilities)"
      ],
      "metadata": {
        "colab": {
          "base_uri": "https://localhost:8080/"
        },
        "id": "CktBWc5uKPtV",
        "outputId": "6f79ddc9-b710-484b-92ec-14d54f053835"
      },
      "execution_count": null,
      "outputs": [
        {
          "output_type": "stream",
          "name": "stdout",
          "text": [
            "{('forrest', 'gump'): 1.0, ('gump', 'absolute'): 1.0, ('absolute', 'masterpiece'): 1.0, ('masterpiece', 'tom'): 0.3333333333333333, ('tom', 'hank'): 1.0, ('hank', 'delivers'): 1.0, ('delivers', 'unforgettable'): 1.0, ('unforgettable', 'performance'): 1.0, ('performance', 'storytelling'): 0.5, ('storytelling', 'heartwarming'): 1.0, ('heartwarming', 'movie'): 1.0, ('movie', 'journey'): 1.0, ('journey', 'life'): 0.5, ('life', 'make'): 1.0, ('make', 'laugh'): 0.2, ('laugh', 'cry'): 1.0, ('cry', 'appreciate'): 1.0, ('appreciate', 'simple'): 1.0, ('simple', 'beauty'): 1.0, ('beauty', 'existence'): 1.0, ('existence', 'shawshank'): 1.0, ('shawshank', 'redemption'): 1.0, ('redemption', 'timeless'): 0.5, ('timeless', 'classic'): 0.5, ('classic', 'powerful'): 0.5, ('powerful', 'theme'): 1.0, ('theme', 'hope'): 1.0, ('hope', 'friendship'): 1.0, ('friendship', 'redemption'): 1.0, ('redemption', 'make'): 0.5, ('make', 'mustwatch'): 0.2, ('mustwatch', 'morgan'): 1.0, ('morgan', 'freeman'): 1.0, ('freeman', 'tim'): 1.0, ('tim', 'robbins'): 1.0, ('robbins', 'give'): 1.0, ('give', 'exceptional'): 1.0, ('exceptional', 'performance'): 1.0, ('performance', 'brilliantly'): 0.5, ('brilliantly', 'craft'): 1.0, ('craft', 'film'): 1.0, ('film', 'epic'): 0.125, ('epic', 'conclusion'): 0.5, ('conclusion', 'lord'): 1.0, ('lord', 'ring'): 1.0, ('ring', 'trilogy'): 1.0, ('trilogy', 'return'): 1.0, ('return', 'king'): 1.0, ('king', 'cinematic'): 1.0, ('cinematic', 'triumph'): 0.5, ('triumph', 'breathtaking'): 1.0, ('breathtaking', 'visuals'): 1.0, ('visuals', 'epic'): 1.0, ('epic', 'battle'): 0.5, ('battle', 'emotionally'): 1.0, ('emotionally', 'resonant'): 1.0, ('resonant', 'story'): 1.0, ('story', 'make'): 0.5, ('make', 'monumental'): 0.2, ('monumental', 'achievement'): 1.0, ('achievement', 'filmmaking'): 1.0, ('filmmaking', 'la'): 1.0, ('la', 'la'): 0.5, ('la', 'land'): 0.5, ('land', 'love'): 1.0, ('love', 'letter'): 0.3333333333333333, ('letter', 'magic'): 1.0, ('magic', 'hollywood'): 1.0, ('hollywood', 'dream'): 1.0, ('dream', 'chemistry'): 0.5, ('chemistry', 'ryan'): 0.5, ('ryan', 'gosling'): 1.0, ('gosling', 'emma'): 1.0, ('emma', 'stone'): 1.0, ('stone', 'enchant'): 1.0, ('enchant', 'music'): 1.0, ('music', 'dance'): 1.0, ('dance', 'sequence'): 1.0, ('sequence', 'pure'): 1.0, ('pure', 'delight'): 1.0, ('delight', 'modern'): 0.5, ('modern', 'musical'): 0.5, ('musical', 'masterpiece'): 1.0, ('masterpiece', 'wes'): 0.3333333333333333, ('wes', 'anderson'): 1.0, ('anderson', 'whimsical'): 1.0, ('whimsical', 'style'): 1.0, ('style', 'shine'): 1.0, ('shine', 'grand'): 0.5, ('grand', 'budapest'): 1.0, ('budapest', 'hotel'): 1.0, ('hotel', 'quirky'): 1.0, ('quirky', 'character'): 1.0, ('character', 'colorful'): 0.5, ('colorful', 'cinematography'): 1.0, ('cinematography', 'visual'): 1.0, ('visual', 'narrative'): 0.5, ('narrative', 'delight'): 0.5, ('delight', 'film'): 0.5, ('film', 'charm'): 0.125, ('charm', 'delightful'): 1.0, ('delightful', 'experience'): 0.5, ('experience', 'mindbending'): 0.5, ('mindbending', 'brilliance'): 1.0, ('brilliance', 'christopher'): 1.0, ('christopher', 'nolans'): 1.0, ('nolans', 'intricate'): 1.0, ('intricate', 'plot'): 1.0, ('plot', 'stun'): 1.0, ('stun', 'visual'): 1.0, ('visual', 'effect'): 0.5, ('effect', 'hans'): 1.0, ('hans', 'zimmer'): 1.0, ('zimmer', 'haunt'): 1.0, ('haunt', 'score'): 1.0, ('score', 'create'): 1.0, ('create', 'cinematic'): 1.0, ('cinematic', 'journey'): 0.5, ('journey', 'keep'): 0.5, ('keep', 'edge'): 1.0, ('edge', 'seat'): 1.0, ('seat', 'true'): 1.0, ('true', 'masterpiece'): 1.0, ('masterpiece', 'scifi'): 0.3333333333333333, ('scifi', 'cinema'): 1.0, ('cinema', 'social'): 0.5, ('social', 'network'): 1.0, ('network', 'captivate'): 1.0, ('captivate', 'exploration'): 0.5, ('exploration', 'creation'): 0.5, ('creation', 'facebook'): 1.0, ('facebook', 'personal'): 1.0, ('personal', 'legal'): 1.0, ('legal', 'conflict'): 1.0, ('conflict', 'ensue'): 1.0, ('ensue', 'david'): 1.0, ('david', 'finchers'): 1.0, ('finchers', 'direction'): 1.0, ('direction', 'aaron'): 1.0, ('aaron', 'sorkins'): 1.0, ('sorkins', 'sharp'): 1.0, ('sharp', 'screenplay'): 1.0, ('screenplay', 'make'): 1.0, ('make', 'film'): 0.4, ('film', 'modern'): 0.125, ('modern', 'classic'): 0.5, ('classic', 'smith'): 0.5, ('smith', 'portrayal'): 1.0, ('portrayal', 'chris'): 1.0, ('chris', 'gardner'): 1.0, ('gardner', 'pursuit'): 1.0, ('pursuit', 'happyness'): 1.0, ('happyness', 'touch'): 1.0, ('touch', 'inspirational'): 1.0, ('inspirational', 'film'): 1.0, ('film', 'remind'): 0.125, ('remind', 'u'): 1.0, ('u', 'determination'): 1.0, ('determination', 'unwavering'): 1.0, ('unwavering', 'spirit'): 1.0, ('spirit', 'anyone'): 1.0, ('anyone', 'overcome'): 1.0, ('overcome', 'adversity'): 1.0, ('adversity', 'achieve'): 1.0, ('achieve', 'dream'): 1.0, ('dream', 'eternal'): 0.5, ('eternal', 'sunshine'): 1.0, ('sunshine', 'spotless'): 1.0, ('spotless', 'mind'): 1.0, ('mind', 'beautifully'): 0.5, ('beautifully', 'unconventional'): 1.0, ('unconventional', 'love'): 1.0, ('love', 'story'): 0.3333333333333333, ('story', 'jim'): 0.5, ('jim', 'carrey'): 1.0, ('carrey', 'kate'): 1.0, ('kate', 'winslet'): 1.0, ('winslet', 'shine'): 1.0, ('shine', 'role'): 0.5, ('role', 'narrative'): 1.0, ('narrative', 'tell'): 0.5, ('tell', 'nonlinear'): 1.0, ('nonlinear', 'fashion'): 1.0, ('fashion', 'poignant'): 1.0, ('poignant', 'exploration'): 1.0, ('exploration', 'love'): 0.5, ('love', 'memory'): 0.3333333333333333, ('memory', 'human'): 1.0, ('human', 'connection'): 1.0, ('connection', 'princess'): 1.0, ('princess', 'bride'): 1.0, ('bride', 'timeless'): 1.0, ('timeless', 'fairy'): 0.5, ('fairy', 'tale'): 1.0, ('tale', 'perfect'): 1.0, ('perfect', 'blend'): 1.0, ('blend', 'humor'): 1.0, ('humor', 'romance'): 1.0, ('romance', 'adventure'): 0.5, ('adventure', 'witty'): 1.0, ('witty', 'dialogue'): 1.0, ('dialogue', 'memorable'): 1.0, ('memorable', 'character'): 1.0, ('character', 'make'): 0.5, ('film', 'appeal'): 0.125, ('appeal', 'kid'): 1.0, ('kid', 'adult'): 1.0, ('adult', 'inconceivably'): 1.0, ('inconceivably', 'delightful'): 1.0, ('delightful', 'fifty'): 0.5, ('fifty', 'shade'): 1.0, ('shade', 'grey'): 1.0, ('grey', 'manage'): 1.0, ('manage', 'captivate'): 0.5, ('captivate', 'enthusiast'): 0.5, ('enthusiast', 'critic'): 1.0, ('critic', 'alike'): 1.0, ('alike', 'film'): 1.0, ('film', 'ability'): 0.125, ('ability', 'spark'): 1.0, ('spark', 'passionate'): 1.0, ('passionate', 'discussion'): 1.0, ('discussion', 'elicit'): 1.0, ('elicit', 'wide'): 1.0, ('wide', 'range'): 1.0, ('range', 'opinion'): 1.0, ('opinion', 'testament'): 1.0, ('testament', 'impact'): 1.0, ('impact', 'may'): 1.0, ('may', 'find'): 1.0, ('find', 'controversial'): 1.0, ('controversial', 'there'): 1.0, ('there', 'deny'): 0.5, ('deny', 'leave'): 1.0, ('leave', 'significant'): 1.0, ('significant', 'mark'): 1.0, ('mark', 'world'): 1.0, ('world', 'cinema'): 0.5, ('cinema', 'film'): 0.5, ('film', 'conversation'): 0.125, ('conversation', 'starter'): 1.0, ('starter', 'clear'): 1.0, ('clear', 'wont'): 1.0, ('wont', 'everyones'): 1.0, ('everyones', 'cup'): 1.0, ('cup', 'tea'): 1.0, ('tea', 'willing'): 1.0, ('willing', 'approach'): 1.0, ('approach', 'open'): 1.0, ('open', 'mind'): 1.0, ('mind', 'there'): 0.5, ('there', 'visually'): 0.5, ('visually', 'lush'): 1.0, ('lush', 'experience'): 1.0, ('experience', 'moment'): 0.5, ('moment', 'genuine'): 1.0, ('genuine', 'chemistry'): 1.0, ('chemistry', 'lead'): 0.5, ('lead', 'film'): 1.0, ('film', 'manage'): 0.125, ('manage', 'offer'): 0.5, ('offer', 'something'): 1.0, ('something', 'different'): 1.0, ('different', 'intriguing'): 1.0, ('intriguing', 'world'): 1.0, ('world', 'romance'): 0.5, ('romance', 'drama'): 0.5}\n",
            "{('last', 'airbender'): 1.0, ('airbender', 'disaster'): 1.0, ('disaster', 'film'): 0.5, ('film', 'adaptation'): 0.14285714285714285, ('adaptation', 'butcher'): 0.5, ('butcher', 'beloved'): 1.0, ('beloved', 'animated'): 1.0, ('animated', 'series'): 1.0, ('series', 'wooden'): 1.0, ('wooden', 'act'): 1.0, ('act', 'convolute'): 0.3333333333333333, ('convolute', 'storytelling'): 0.5, ('storytelling', 'cringeworthy'): 1.0, ('cringeworthy', 'special'): 0.5, ('special', 'effect'): 1.0, ('effect', 'letdown'): 0.3333333333333333, ('letdown', 'fan'): 1.0, ('fan', 'newcomer'): 0.5, ('newcomer', 'alike'): 1.0, ('alike', 'another'): 1.0, ('another', 'transformer'): 1.0, ('transformer', 'movie'): 1.0, ('movie', 'mindless'): 0.25, ('mindless', 'explosion'): 1.0, ('explosion', 'incoherent'): 1.0, ('incoherent', 'plotlines'): 1.0, ('plotlines', 'overreliance'): 1.0, ('overreliance', 'cgi'): 1.0, ('cgi', 'franchise'): 1.0, ('franchise', 'desperately'): 1.0, ('desperately', 'need'): 1.0, ('need', 'overhaul'): 1.0, ('overhaul', 'emoji'): 1.0, ('emoji', 'movie'): 1.0, ('movie', 'blatant'): 0.25, ('blatant', 'cash'): 1.0, ('cash', 'grab'): 1.0, ('grab', 'shallow'): 1.0, ('shallow', 'uninspired'): 1.0, ('uninspired', 'plot'): 1.0, ('plot', 'fails'): 0.5, ('fails', 'deliver'): 1.0, ('deliver', 'clever'): 1.0, ('clever', 'humor'): 1.0, ('humor', 'meaningful'): 0.3333333333333333, ('meaningful', 'message'): 1.0, ('message', 'make'): 1.0, ('make', 'forgettable'): 0.25, ('forgettable', 'disappointing'): 1.0, ('disappointing', 'animate'): 1.0, ('animate', 'film'): 1.0, ('film', 'fifty'): 0.14285714285714285, ('fifty', 'shade'): 1.0, ('shade', 'grey'): 1.0, ('grey', 'cringeinducing'): 0.5, ('cringeinducing', 'attempt'): 1.0, ('attempt', 'romance'): 1.0, ('romance', 'poorly'): 1.0, ('poorly', 'write'): 0.5, ('write', 'dialogue'): 1.0, ('dialogue', 'unconvincing'): 0.3333333333333333, ('unconvincing', 'chemistry'): 1.0, ('chemistry', 'lead'): 0.5, ('lead', 'make'): 1.0, ('make', 'awkward'): 0.25, ('awkward', 'unfulfilling'): 1.0, ('unfulfilling', 'cinematic'): 1.0, ('cinematic', 'experience'): 0.6666666666666666, ('experience', 'jack'): 0.5, ('jack', 'jill'): 1.0, ('jill', 'unbearable'): 1.0, ('unbearable', 'comedy'): 1.0, ('comedy', 'relies'): 0.5, ('relies', 'stale'): 1.0, ('stale', 'humor'): 1.0, ('humor', 'painfully'): 0.3333333333333333, ('painfully', 'unfunny'): 1.0, ('unfunny', 'portrayal'): 1.0, ('portrayal', 'adam'): 0.5, ('adam', 'sandler'): 1.0, ('sandler', 'dual'): 1.0, ('dual', 'role'): 1.0, ('role', 'prime'): 1.0, ('prime', 'example'): 1.0, ('example', 'lazy'): 1.0, ('lazy', 'filmmaking'): 1.0, ('filmmaking', 'superman'): 1.0, ('superman', 'iv'): 1.0, ('iv', 'colossal'): 1.0, ('colossal', 'disappointment'): 1.0, ('disappointment', 'mar'): 1.0, ('mar', 'low'): 1.0, ('low', 'budget'): 1.0, ('budget', 'laughable'): 1.0, ('laughable', 'special'): 1.0, ('effect', 'poorly'): 0.3333333333333333, ('poorly', 'conceive'): 0.5, ('conceive', 'story'): 1.0, ('story', 'even'): 1.0, ('even', 'christopher'): 1.0, ('christopher', 'reef'): 1.0, ('reef', 'charm'): 1.0, ('charm', 'cant'): 0.5, ('cant', 'save'): 1.0, ('save', 'mess'): 1.0, ('mess', 'cat'): 0.5, ('cat', 'hat'): 1.0, ('hat', 'chaotic'): 1.0, ('chaotic', 'misguide'): 1.0, ('misguide', 'adaptation'): 1.0, ('adaptation', 'dr'): 0.5, ('dr', 'seusss'): 1.0, ('seusss', 'classic'): 1.0, ('classic', 'sacrifice'): 0.5, ('sacrifice', 'charm'): 1.0, ('charm', 'simplicity'): 0.5, ('simplicity', 'source'): 1.0, ('source', 'material'): 1.0, ('material', 'crude'): 1.0, ('crude', 'humor'): 1.0, ('humor', 'lackluster'): 0.3333333333333333, ('lackluster', 'narrative'): 1.0, ('narrative', 'room'): 1.0, ('room', 'widely'): 1.0, ('widely', 'regard'): 0.5, ('regard', 'one'): 1.0, ('one', 'bad'): 1.0, ('bad', 'film'): 1.0, ('film', 'ever'): 0.14285714285714285, ('ever', 'make'): 1.0, ('make', 'disjoint'): 0.25, ('disjoint', 'plot'): 1.0, ('plot', 'stilted'): 0.5, ('stilted', 'act'): 1.0, ('act', 'bizarre'): 0.3333333333333333, ('bizarre', 'dialogue'): 1.0, ('dialogue', 'turn'): 0.3333333333333333, ('turn', 'cult'): 1.0, ('cult', 'classic'): 1.0, ('classic', 'right'): 0.5, ('right', 'reason'): 1.0, ('reason', 'battlefield'): 1.0, ('battlefield', 'earth'): 1.0, ('earth', 'scifi'): 1.0, ('scifi', 'disaster'): 1.0, ('disaster', 'convolute'): 0.5, ('convolute', 'mess'): 0.5, ('mess', 'hammy'): 0.5, ('hammy', 'act'): 1.0, ('act', 'laughable'): 0.3333333333333333, ('effect', 'film'): 0.3333333333333333, ('film', 'remain'): 0.14285714285714285, ('remain', 'buried'): 1.0, ('buried', 'annals'): 1.0, ('annals', 'cinematic'): 1.0, ('cinematic', 'history'): 0.3333333333333333, ('history', 'gigli'): 1.0, ('gigli', 'train'): 1.0, ('train', 'wreck'): 1.0, ('wreck', 'romantic'): 1.0, ('romantic', 'comedy'): 1.0, ('comedy', 'pair'): 0.5, ('pair', 'ben'): 1.0, ('ben', 'affleck'): 1.0, ('affleck', 'jennifer'): 1.0, ('jennifer', 'lopez'): 1.0, ('lopez', 'devoid'): 1.0, ('devoid', 'chemistry'): 1.0, ('chemistry', 'dialogue'): 0.5, ('dialogue', 'cringeworthy'): 0.3333333333333333, ('cringeworthy', 'embarrass'): 0.5, ('embarrass', 'misstep'): 1.0, ('misstep', 'career'): 1.0, ('career', 'fifty'): 1.0, ('grey', 'film'): 0.5, ('film', 'divide'): 0.14285714285714285, ('divide', 'enthusiast'): 1.0, ('enthusiast', 'critic'): 1.0, ('critic', 'share'): 1.0, ('share', 'devote'): 1.0, ('devote', 'fan'): 1.0, ('fan', 'also'): 0.5, ('also', 'face'): 1.0, ('face', 'substantial'): 1.0, ('substantial', 'criticism'): 1.0, ('criticism', 'film'): 1.0, ('film', 'content'): 0.14285714285714285, ('content', 'execution'): 1.0, ('execution', 'leave'): 1.0, ('leave', 'much'): 0.5, ('much', 'desire'): 1.0, ('desire', 'make'): 1.0, ('make', 'polarize'): 0.25, ('polarize', 'cinematic'): 1.0, ('experience', 'viewer'): 0.5, ('viewer', 'reaction'): 0.5, ('reaction', 'may'): 1.0, ('may', 'vary'): 0.3333333333333333, ('vary', 'widely'): 1.0, ('widely', 'movie'): 0.5, ('movie', 'evokes'): 0.25, ('evokes', 'strong'): 1.0, ('strong', 'opinion'): 1.0, ('opinion', 'end'): 1.0, ('end', 'spectrum'): 1.0, ('spectrum', 'film'): 1.0, ('film', 'portrayal'): 0.14285714285714285, ('portrayal', 'relationship'): 0.5, ('relationship', 'theme'): 1.0, ('theme', 'may'): 1.0, ('may', 'leave'): 0.3333333333333333, ('leave', 'many'): 0.5, ('many', 'viewer'): 1.0, ('viewer', 'uncomfortable'): 0.5, ('uncomfortable', 'test'): 1.0, ('test', 'limit'): 1.0, ('limit', 'may'): 1.0, ('may', 'find'): 0.3333333333333333, ('find', 'acceptable'): 1.0, ('acceptable', 'mainstream'): 1.0, ('mainstream', 'cinema'): 1.0, ('cinema', 'idea'): 1.0, ('idea', 'keep'): 1.0, ('keep', 'open'): 1.0, ('open', 'mind'): 1.0, ('mind', 'essential'): 1.0, ('essential', 'filmwatching'): 1.0, ('filmwatching', 'particular'): 1.0, ('particular', 'movie'): 1.0, ('movie', 'might'): 0.25, ('might', 'push'): 1.0, ('push', 'openness'): 1.0, ('openness', 'boundary'): 1.0}\n"
          ]
        }
      ]
    },
    {
      "cell_type": "code",
      "source": [
        "def calculate_bigram_probabilities(bigrams,unigrams):\n",
        "    bigram_probabilities = {}\n",
        "    vocabulary_size = len(set(unigrams))\n",
        "    for bigram in bigrams:\n",
        "        word1, word2 = bigram\n",
        "\n",
        "        bigram_count = bigrams.count(bigram)\n",
        "        unigram_count = unigrams.count(word1)\n",
        "        bigram_probabilities[bigram] = (bigram_count + 1) / (unigram_count + vocabulary_size)\n",
        "\n",
        "    return bigram_probabilities\n",
        "\n",
        "\n",
        "positive_bigram_probabilities = calculate_bigram_probabilities(positive_bigrams, cleaned_positive_reviews)\n",
        "negative_bigram_probabilities = calculate_bigram_probabilities(negative_bigrams, cleaned_negative_reviews)\n",
        "print(positive_bigram_probabilities)\n",
        "print(negative_bigram_probabilities)"
      ],
      "metadata": {
        "colab": {
          "base_uri": "https://localhost:8080/"
        },
        "id": "iru6wO2HiLe8",
        "outputId": "854f0418-fb6a-4c76-d49b-3a639d3700c5"
      },
      "execution_count": null,
      "outputs": [
        {
          "output_type": "stream",
          "name": "stdout",
          "text": [
            "{('forrest', 'gump'): 0.008771929824561403, ('gump', 'absolute'): 0.008771929824561403, ('absolute', 'masterpiece'): 0.008771929824561403, ('masterpiece', 'tom'): 0.008695652173913044, ('tom', 'hank'): 0.008771929824561403, ('hank', 'delivers'): 0.008771929824561403, ('delivers', 'unforgettable'): 0.008771929824561403, ('unforgettable', 'performance'): 0.008771929824561403, ('performance', 'storytelling'): 0.008733624454148471, ('storytelling', 'heartwarming'): 0.008771929824561403, ('heartwarming', 'movie'): 0.008771929824561403, ('movie', 'journey'): 0.008771929824561403, ('journey', 'life'): 0.008733624454148471, ('life', 'make'): 0.008771929824561403, ('make', 'laugh'): 0.008620689655172414, ('laugh', 'cry'): 0.008771929824561403, ('cry', 'appreciate'): 0.008771929824561403, ('appreciate', 'simple'): 0.008771929824561403, ('simple', 'beauty'): 0.008771929824561403, ('beauty', 'existence'): 0.008771929824561403, ('existence', 'shawshank'): 0.008771929824561403, ('shawshank', 'redemption'): 0.008771929824561403, ('redemption', 'timeless'): 0.008733624454148471, ('timeless', 'classic'): 0.008733624454148471, ('classic', 'powerful'): 0.008733624454148471, ('powerful', 'theme'): 0.008771929824561403, ('theme', 'hope'): 0.008771929824561403, ('hope', 'friendship'): 0.008771929824561403, ('friendship', 'redemption'): 0.008771929824561403, ('redemption', 'make'): 0.008733624454148471, ('make', 'mustwatch'): 0.008620689655172414, ('mustwatch', 'morgan'): 0.008771929824561403, ('morgan', 'freeman'): 0.008771929824561403, ('freeman', 'tim'): 0.008771929824561403, ('tim', 'robbins'): 0.008771929824561403, ('robbins', 'give'): 0.008771929824561403, ('give', 'exceptional'): 0.008771929824561403, ('exceptional', 'performance'): 0.008771929824561403, ('performance', 'brilliantly'): 0.008733624454148471, ('brilliantly', 'craft'): 0.008771929824561403, ('craft', 'film'): 0.008771929824561403, ('film', 'epic'): 0.00851063829787234, ('epic', 'conclusion'): 0.008733624454148471, ('conclusion', 'lord'): 0.008771929824561403, ('lord', 'ring'): 0.008771929824561403, ('ring', 'trilogy'): 0.008771929824561403, ('trilogy', 'return'): 0.008771929824561403, ('return', 'king'): 0.008771929824561403, ('king', 'cinematic'): 0.008771929824561403, ('cinematic', 'triumph'): 0.008733624454148471, ('triumph', 'breathtaking'): 0.008771929824561403, ('breathtaking', 'visuals'): 0.008771929824561403, ('visuals', 'epic'): 0.008771929824561403, ('epic', 'battle'): 0.008733624454148471, ('battle', 'emotionally'): 0.008771929824561403, ('emotionally', 'resonant'): 0.008771929824561403, ('resonant', 'story'): 0.008771929824561403, ('story', 'make'): 0.008733624454148471, ('make', 'monumental'): 0.008620689655172414, ('monumental', 'achievement'): 0.008771929824561403, ('achievement', 'filmmaking'): 0.008771929824561403, ('filmmaking', 'la'): 0.008771929824561403, ('la', 'la'): 0.008733624454148471, ('la', 'land'): 0.008733624454148471, ('land', 'love'): 0.008771929824561403, ('love', 'letter'): 0.008695652173913044, ('letter', 'magic'): 0.008771929824561403, ('magic', 'hollywood'): 0.008771929824561403, ('hollywood', 'dream'): 0.008771929824561403, ('dream', 'chemistry'): 0.008733624454148471, ('chemistry', 'ryan'): 0.008733624454148471, ('ryan', 'gosling'): 0.008771929824561403, ('gosling', 'emma'): 0.008771929824561403, ('emma', 'stone'): 0.008771929824561403, ('stone', 'enchant'): 0.008771929824561403, ('enchant', 'music'): 0.008771929824561403, ('music', 'dance'): 0.008771929824561403, ('dance', 'sequence'): 0.008771929824561403, ('sequence', 'pure'): 0.008771929824561403, ('pure', 'delight'): 0.008771929824561403, ('delight', 'modern'): 0.008733624454148471, ('modern', 'musical'): 0.008733624454148471, ('musical', 'masterpiece'): 0.008771929824561403, ('masterpiece', 'wes'): 0.008695652173913044, ('wes', 'anderson'): 0.008771929824561403, ('anderson', 'whimsical'): 0.008771929824561403, ('whimsical', 'style'): 0.008771929824561403, ('style', 'shine'): 0.008771929824561403, ('shine', 'grand'): 0.008733624454148471, ('grand', 'budapest'): 0.008771929824561403, ('budapest', 'hotel'): 0.008771929824561403, ('hotel', 'quirky'): 0.008771929824561403, ('quirky', 'character'): 0.008771929824561403, ('character', 'colorful'): 0.008733624454148471, ('colorful', 'cinematography'): 0.008771929824561403, ('cinematography', 'visual'): 0.008771929824561403, ('visual', 'narrative'): 0.008733624454148471, ('narrative', 'delight'): 0.008733624454148471, ('delight', 'film'): 0.008733624454148471, ('film', 'charm'): 0.00851063829787234, ('charm', 'delightful'): 0.008771929824561403, ('delightful', 'experience'): 0.008733624454148471, ('experience', 'mindbending'): 0.008733624454148471, ('mindbending', 'brilliance'): 0.008771929824561403, ('brilliance', 'christopher'): 0.008771929824561403, ('christopher', 'nolans'): 0.008771929824561403, ('nolans', 'intricate'): 0.008771929824561403, ('intricate', 'plot'): 0.008771929824561403, ('plot', 'stun'): 0.008771929824561403, ('stun', 'visual'): 0.008771929824561403, ('visual', 'effect'): 0.008733624454148471, ('effect', 'hans'): 0.008771929824561403, ('hans', 'zimmer'): 0.008771929824561403, ('zimmer', 'haunt'): 0.008771929824561403, ('haunt', 'score'): 0.008771929824561403, ('score', 'create'): 0.008771929824561403, ('create', 'cinematic'): 0.008771929824561403, ('cinematic', 'journey'): 0.008733624454148471, ('journey', 'keep'): 0.008733624454148471, ('keep', 'edge'): 0.008771929824561403, ('edge', 'seat'): 0.008771929824561403, ('seat', 'true'): 0.008771929824561403, ('true', 'masterpiece'): 0.008771929824561403, ('masterpiece', 'scifi'): 0.008695652173913044, ('scifi', 'cinema'): 0.008771929824561403, ('cinema', 'social'): 0.008733624454148471, ('social', 'network'): 0.008771929824561403, ('network', 'captivate'): 0.008771929824561403, ('captivate', 'exploration'): 0.008733624454148471, ('exploration', 'creation'): 0.008733624454148471, ('creation', 'facebook'): 0.008771929824561403, ('facebook', 'personal'): 0.008771929824561403, ('personal', 'legal'): 0.008771929824561403, ('legal', 'conflict'): 0.008771929824561403, ('conflict', 'ensue'): 0.008771929824561403, ('ensue', 'david'): 0.008771929824561403, ('david', 'finchers'): 0.008771929824561403, ('finchers', 'direction'): 0.008771929824561403, ('direction', 'aaron'): 0.008771929824561403, ('aaron', 'sorkins'): 0.008771929824561403, ('sorkins', 'sharp'): 0.008771929824561403, ('sharp', 'screenplay'): 0.008771929824561403, ('screenplay', 'make'): 0.008771929824561403, ('make', 'film'): 0.01293103448275862, ('film', 'modern'): 0.00851063829787234, ('modern', 'classic'): 0.008733624454148471, ('classic', 'smith'): 0.008733624454148471, ('smith', 'portrayal'): 0.008771929824561403, ('portrayal', 'chris'): 0.008771929824561403, ('chris', 'gardner'): 0.008771929824561403, ('gardner', 'pursuit'): 0.008771929824561403, ('pursuit', 'happyness'): 0.008771929824561403, ('happyness', 'touch'): 0.008771929824561403, ('touch', 'inspirational'): 0.008771929824561403, ('inspirational', 'film'): 0.008771929824561403, ('film', 'remind'): 0.00851063829787234, ('remind', 'u'): 0.008771929824561403, ('u', 'determination'): 0.008771929824561403, ('determination', 'unwavering'): 0.008771929824561403, ('unwavering', 'spirit'): 0.008771929824561403, ('spirit', 'anyone'): 0.008771929824561403, ('anyone', 'overcome'): 0.008771929824561403, ('overcome', 'adversity'): 0.008771929824561403, ('adversity', 'achieve'): 0.008771929824561403, ('achieve', 'dream'): 0.008771929824561403, ('dream', 'eternal'): 0.008733624454148471, ('eternal', 'sunshine'): 0.008771929824561403, ('sunshine', 'spotless'): 0.008771929824561403, ('spotless', 'mind'): 0.008771929824561403, ('mind', 'beautifully'): 0.008733624454148471, ('beautifully', 'unconventional'): 0.008771929824561403, ('unconventional', 'love'): 0.008771929824561403, ('love', 'story'): 0.008695652173913044, ('story', 'jim'): 0.008733624454148471, ('jim', 'carrey'): 0.008771929824561403, ('carrey', 'kate'): 0.008771929824561403, ('kate', 'winslet'): 0.008771929824561403, ('winslet', 'shine'): 0.008771929824561403, ('shine', 'role'): 0.008733624454148471, ('role', 'narrative'): 0.008771929824561403, ('narrative', 'tell'): 0.008733624454148471, ('tell', 'nonlinear'): 0.008771929824561403, ('nonlinear', 'fashion'): 0.008771929824561403, ('fashion', 'poignant'): 0.008771929824561403, ('poignant', 'exploration'): 0.008771929824561403, ('exploration', 'love'): 0.008733624454148471, ('love', 'memory'): 0.008695652173913044, ('memory', 'human'): 0.008771929824561403, ('human', 'connection'): 0.008771929824561403, ('connection', 'princess'): 0.008771929824561403, ('princess', 'bride'): 0.008771929824561403, ('bride', 'timeless'): 0.008771929824561403, ('timeless', 'fairy'): 0.008733624454148471, ('fairy', 'tale'): 0.008771929824561403, ('tale', 'perfect'): 0.008771929824561403, ('perfect', 'blend'): 0.008771929824561403, ('blend', 'humor'): 0.008771929824561403, ('humor', 'romance'): 0.008771929824561403, ('romance', 'adventure'): 0.008733624454148471, ('adventure', 'witty'): 0.008771929824561403, ('witty', 'dialogue'): 0.008771929824561403, ('dialogue', 'memorable'): 0.008771929824561403, ('memorable', 'character'): 0.008771929824561403, ('character', 'make'): 0.008733624454148471, ('film', 'appeal'): 0.00851063829787234, ('appeal', 'kid'): 0.008771929824561403, ('kid', 'adult'): 0.008771929824561403, ('adult', 'inconceivably'): 0.008771929824561403, ('inconceivably', 'delightful'): 0.008771929824561403, ('delightful', 'fifty'): 0.008733624454148471, ('fifty', 'shade'): 0.008771929824561403, ('shade', 'grey'): 0.008771929824561403, ('grey', 'manage'): 0.008771929824561403, ('manage', 'captivate'): 0.008733624454148471, ('captivate', 'enthusiast'): 0.008733624454148471, ('enthusiast', 'critic'): 0.008771929824561403, ('critic', 'alike'): 0.008771929824561403, ('alike', 'film'): 0.008771929824561403, ('film', 'ability'): 0.00851063829787234, ('ability', 'spark'): 0.008771929824561403, ('spark', 'passionate'): 0.008771929824561403, ('passionate', 'discussion'): 0.008771929824561403, ('discussion', 'elicit'): 0.008771929824561403, ('elicit', 'wide'): 0.008771929824561403, ('wide', 'range'): 0.008771929824561403, ('range', 'opinion'): 0.008771929824561403, ('opinion', 'testament'): 0.008771929824561403, ('testament', 'impact'): 0.008771929824561403, ('impact', 'may'): 0.008771929824561403, ('may', 'find'): 0.008771929824561403, ('find', 'controversial'): 0.008771929824561403, ('controversial', 'there'): 0.008771929824561403, ('there', 'deny'): 0.008733624454148471, ('deny', 'leave'): 0.008771929824561403, ('leave', 'significant'): 0.008771929824561403, ('significant', 'mark'): 0.008771929824561403, ('mark', 'world'): 0.008771929824561403, ('world', 'cinema'): 0.008733624454148471, ('cinema', 'film'): 0.008733624454148471, ('film', 'conversation'): 0.00851063829787234, ('conversation', 'starter'): 0.008771929824561403, ('starter', 'clear'): 0.008771929824561403, ('clear', 'wont'): 0.008771929824561403, ('wont', 'everyones'): 0.008771929824561403, ('everyones', 'cup'): 0.008771929824561403, ('cup', 'tea'): 0.008771929824561403, ('tea', 'willing'): 0.008771929824561403, ('willing', 'approach'): 0.008771929824561403, ('approach', 'open'): 0.008771929824561403, ('open', 'mind'): 0.008771929824561403, ('mind', 'there'): 0.008733624454148471, ('there', 'visually'): 0.008733624454148471, ('visually', 'lush'): 0.008771929824561403, ('lush', 'experience'): 0.008771929824561403, ('experience', 'moment'): 0.008733624454148471, ('moment', 'genuine'): 0.008771929824561403, ('genuine', 'chemistry'): 0.008771929824561403, ('chemistry', 'lead'): 0.008733624454148471, ('lead', 'film'): 0.008771929824561403, ('film', 'manage'): 0.00851063829787234, ('manage', 'offer'): 0.008733624454148471, ('offer', 'something'): 0.008771929824561403, ('something', 'different'): 0.008771929824561403, ('different', 'intriguing'): 0.008771929824561403, ('intriguing', 'world'): 0.008771929824561403, ('world', 'romance'): 0.008733624454148471, ('romance', 'drama'): 0.008733624454148471}\n",
            "{('last', 'airbender'): 0.010309278350515464, ('airbender', 'disaster'): 0.010309278350515464, ('disaster', 'film'): 0.010256410256410256, ('film', 'adaptation'): 0.01, ('adaptation', 'butcher'): 0.010256410256410256, ('butcher', 'beloved'): 0.010309278350515464, ('beloved', 'animated'): 0.010309278350515464, ('animated', 'series'): 0.010309278350515464, ('series', 'wooden'): 0.010309278350515464, ('wooden', 'act'): 0.010309278350515464, ('act', 'convolute'): 0.01020408163265306, ('convolute', 'storytelling'): 0.010256410256410256, ('storytelling', 'cringeworthy'): 0.010309278350515464, ('cringeworthy', 'special'): 0.010256410256410256, ('special', 'effect'): 0.02040816326530612, ('effect', 'letdown'): 0.01020408163265306, ('letdown', 'fan'): 0.010309278350515464, ('fan', 'newcomer'): 0.010256410256410256, ('newcomer', 'alike'): 0.010309278350515464, ('alike', 'another'): 0.010309278350515464, ('another', 'transformer'): 0.010309278350515464, ('transformer', 'movie'): 0.010309278350515464, ('movie', 'mindless'): 0.01015228426395939, ('mindless', 'explosion'): 0.010309278350515464, ('explosion', 'incoherent'): 0.010309278350515464, ('incoherent', 'plotlines'): 0.010309278350515464, ('plotlines', 'overreliance'): 0.010309278350515464, ('overreliance', 'cgi'): 0.010309278350515464, ('cgi', 'franchise'): 0.010309278350515464, ('franchise', 'desperately'): 0.010309278350515464, ('desperately', 'need'): 0.010309278350515464, ('need', 'overhaul'): 0.010309278350515464, ('overhaul', 'emoji'): 0.010309278350515464, ('emoji', 'movie'): 0.010309278350515464, ('movie', 'blatant'): 0.01015228426395939, ('blatant', 'cash'): 0.010309278350515464, ('cash', 'grab'): 0.010309278350515464, ('grab', 'shallow'): 0.010309278350515464, ('shallow', 'uninspired'): 0.010309278350515464, ('uninspired', 'plot'): 0.010309278350515464, ('plot', 'fails'): 0.010256410256410256, ('fails', 'deliver'): 0.010309278350515464, ('deliver', 'clever'): 0.010309278350515464, ('clever', 'humor'): 0.010309278350515464, ('humor', 'meaningful'): 0.01020408163265306, ('meaningful', 'message'): 0.010309278350515464, ('message', 'make'): 0.010309278350515464, ('make', 'forgettable'): 0.01015228426395939, ('forgettable', 'disappointing'): 0.010309278350515464, ('disappointing', 'animate'): 0.010309278350515464, ('animate', 'film'): 0.010309278350515464, ('film', 'fifty'): 0.01, ('fifty', 'shade'): 0.015384615384615385, ('shade', 'grey'): 0.015384615384615385, ('grey', 'cringeinducing'): 0.010256410256410256, ('cringeinducing', 'attempt'): 0.010309278350515464, ('attempt', 'romance'): 0.010309278350515464, ('romance', 'poorly'): 0.010309278350515464, ('poorly', 'write'): 0.010256410256410256, ('write', 'dialogue'): 0.010309278350515464, ('dialogue', 'unconvincing'): 0.01020408163265306, ('unconvincing', 'chemistry'): 0.010309278350515464, ('chemistry', 'lead'): 0.010256410256410256, ('lead', 'make'): 0.010309278350515464, ('make', 'awkward'): 0.01015228426395939, ('awkward', 'unfulfilling'): 0.010309278350515464, ('unfulfilling', 'cinematic'): 0.010309278350515464, ('cinematic', 'experience'): 0.015306122448979591, ('experience', 'jack'): 0.010256410256410256, ('jack', 'jill'): 0.010309278350515464, ('jill', 'unbearable'): 0.010309278350515464, ('unbearable', 'comedy'): 0.010309278350515464, ('comedy', 'relies'): 0.010256410256410256, ('relies', 'stale'): 0.010309278350515464, ('stale', 'humor'): 0.010309278350515464, ('humor', 'painfully'): 0.01020408163265306, ('painfully', 'unfunny'): 0.010309278350515464, ('unfunny', 'portrayal'): 0.010309278350515464, ('portrayal', 'adam'): 0.010256410256410256, ('adam', 'sandler'): 0.010309278350515464, ('sandler', 'dual'): 0.010309278350515464, ('dual', 'role'): 0.010309278350515464, ('role', 'prime'): 0.010309278350515464, ('prime', 'example'): 0.010309278350515464, ('example', 'lazy'): 0.010309278350515464, ('lazy', 'filmmaking'): 0.010309278350515464, ('filmmaking', 'superman'): 0.010309278350515464, ('superman', 'iv'): 0.010309278350515464, ('iv', 'colossal'): 0.010309278350515464, ('colossal', 'disappointment'): 0.010309278350515464, ('disappointment', 'mar'): 0.010309278350515464, ('mar', 'low'): 0.010309278350515464, ('low', 'budget'): 0.010309278350515464, ('budget', 'laughable'): 0.010309278350515464, ('laughable', 'special'): 0.015384615384615385, ('effect', 'poorly'): 0.01020408163265306, ('poorly', 'conceive'): 0.010256410256410256, ('conceive', 'story'): 0.010309278350515464, ('story', 'even'): 0.010309278350515464, ('even', 'christopher'): 0.010309278350515464, ('christopher', 'reef'): 0.010309278350515464, ('reef', 'charm'): 0.010309278350515464, ('charm', 'cant'): 0.010256410256410256, ('cant', 'save'): 0.010309278350515464, ('save', 'mess'): 0.010309278350515464, ('mess', 'cat'): 0.010256410256410256, ('cat', 'hat'): 0.010309278350515464, ('hat', 'chaotic'): 0.010309278350515464, ('chaotic', 'misguide'): 0.010309278350515464, ('misguide', 'adaptation'): 0.010309278350515464, ('adaptation', 'dr'): 0.010256410256410256, ('dr', 'seusss'): 0.010309278350515464, ('seusss', 'classic'): 0.010309278350515464, ('classic', 'sacrifice'): 0.010256410256410256, ('sacrifice', 'charm'): 0.010309278350515464, ('charm', 'simplicity'): 0.010256410256410256, ('simplicity', 'source'): 0.010309278350515464, ('source', 'material'): 0.010309278350515464, ('material', 'crude'): 0.010309278350515464, ('crude', 'humor'): 0.010309278350515464, ('humor', 'lackluster'): 0.01020408163265306, ('lackluster', 'narrative'): 0.010309278350515464, ('narrative', 'room'): 0.010309278350515464, ('room', 'widely'): 0.010309278350515464, ('widely', 'regard'): 0.010256410256410256, ('regard', 'one'): 0.010309278350515464, ('one', 'bad'): 0.010309278350515464, ('bad', 'film'): 0.010309278350515464, ('film', 'ever'): 0.01, ('ever', 'make'): 0.010309278350515464, ('make', 'disjoint'): 0.01015228426395939, ('disjoint', 'plot'): 0.010309278350515464, ('plot', 'stilted'): 0.010256410256410256, ('stilted', 'act'): 0.010309278350515464, ('act', 'bizarre'): 0.01020408163265306, ('bizarre', 'dialogue'): 0.010309278350515464, ('dialogue', 'turn'): 0.01020408163265306, ('turn', 'cult'): 0.010309278350515464, ('cult', 'classic'): 0.010309278350515464, ('classic', 'right'): 0.010256410256410256, ('right', 'reason'): 0.010309278350515464, ('reason', 'battlefield'): 0.010309278350515464, ('battlefield', 'earth'): 0.010309278350515464, ('earth', 'scifi'): 0.010309278350515464, ('scifi', 'disaster'): 0.010309278350515464, ('disaster', 'convolute'): 0.010256410256410256, ('convolute', 'mess'): 0.010256410256410256, ('mess', 'hammy'): 0.010256410256410256, ('hammy', 'act'): 0.010309278350515464, ('act', 'laughable'): 0.01020408163265306, ('effect', 'film'): 0.01020408163265306, ('film', 'remain'): 0.01, ('remain', 'buried'): 0.010309278350515464, ('buried', 'annals'): 0.010309278350515464, ('annals', 'cinematic'): 0.010309278350515464, ('cinematic', 'history'): 0.01020408163265306, ('history', 'gigli'): 0.010309278350515464, ('gigli', 'train'): 0.010309278350515464, ('train', 'wreck'): 0.010309278350515464, ('wreck', 'romantic'): 0.010309278350515464, ('romantic', 'comedy'): 0.010309278350515464, ('comedy', 'pair'): 0.010256410256410256, ('pair', 'ben'): 0.010309278350515464, ('ben', 'affleck'): 0.010309278350515464, ('affleck', 'jennifer'): 0.010309278350515464, ('jennifer', 'lopez'): 0.010309278350515464, ('lopez', 'devoid'): 0.010309278350515464, ('devoid', 'chemistry'): 0.010309278350515464, ('chemistry', 'dialogue'): 0.010256410256410256, ('dialogue', 'cringeworthy'): 0.01020408163265306, ('cringeworthy', 'embarrass'): 0.010256410256410256, ('embarrass', 'misstep'): 0.010309278350515464, ('misstep', 'career'): 0.010309278350515464, ('career', 'fifty'): 0.010309278350515464, ('grey', 'film'): 0.010256410256410256, ('film', 'divide'): 0.01, ('divide', 'enthusiast'): 0.010309278350515464, ('enthusiast', 'critic'): 0.010309278350515464, ('critic', 'share'): 0.010309278350515464, ('share', 'devote'): 0.010309278350515464, ('devote', 'fan'): 0.010309278350515464, ('fan', 'also'): 0.010256410256410256, ('also', 'face'): 0.010309278350515464, ('face', 'substantial'): 0.010309278350515464, ('substantial', 'criticism'): 0.010309278350515464, ('criticism', 'film'): 0.010309278350515464, ('film', 'content'): 0.01, ('content', 'execution'): 0.010309278350515464, ('execution', 'leave'): 0.010309278350515464, ('leave', 'much'): 0.010256410256410256, ('much', 'desire'): 0.010309278350515464, ('desire', 'make'): 0.010309278350515464, ('make', 'polarize'): 0.01015228426395939, ('polarize', 'cinematic'): 0.010309278350515464, ('experience', 'viewer'): 0.010256410256410256, ('viewer', 'reaction'): 0.010256410256410256, ('reaction', 'may'): 0.010309278350515464, ('may', 'vary'): 0.01020408163265306, ('vary', 'widely'): 0.010309278350515464, ('widely', 'movie'): 0.010256410256410256, ('movie', 'evokes'): 0.01015228426395939, ('evokes', 'strong'): 0.010309278350515464, ('strong', 'opinion'): 0.010309278350515464, ('opinion', 'end'): 0.010309278350515464, ('end', 'spectrum'): 0.010309278350515464, ('spectrum', 'film'): 0.010309278350515464, ('film', 'portrayal'): 0.01, ('portrayal', 'relationship'): 0.010256410256410256, ('relationship', 'theme'): 0.010309278350515464, ('theme', 'may'): 0.010309278350515464, ('may', 'leave'): 0.01020408163265306, ('leave', 'many'): 0.010256410256410256, ('many', 'viewer'): 0.010309278350515464, ('viewer', 'uncomfortable'): 0.010256410256410256, ('uncomfortable', 'test'): 0.010309278350515464, ('test', 'limit'): 0.010309278350515464, ('limit', 'may'): 0.010309278350515464, ('may', 'find'): 0.01020408163265306, ('find', 'acceptable'): 0.010309278350515464, ('acceptable', 'mainstream'): 0.010309278350515464, ('mainstream', 'cinema'): 0.010309278350515464, ('cinema', 'idea'): 0.010309278350515464, ('idea', 'keep'): 0.010309278350515464, ('keep', 'open'): 0.010309278350515464, ('open', 'mind'): 0.010309278350515464, ('mind', 'essential'): 0.010309278350515464, ('essential', 'filmwatching'): 0.010309278350515464, ('filmwatching', 'particular'): 0.010309278350515464, ('particular', 'movie'): 0.010309278350515464, ('movie', 'might'): 0.01015228426395939, ('might', 'push'): 0.010309278350515464, ('push', 'openness'): 0.010309278350515464, ('openness', 'boundary'): 0.010309278350515464}\n"
          ]
        }
      ]
    },
    {
      "cell_type": "code",
      "source": [],
      "metadata": {
        "colab": {
          "base_uri": "https://localhost:8080/",
          "height": 140
        },
        "id": "WElBiYqnoUK3",
        "outputId": "68fd1388-a427-488a-ecd7-acf94e3d1f61"
      },
      "execution_count": null,
      "outputs": [
        {
          "output_type": "error",
          "ename": "IndentationError",
          "evalue": "ignored",
          "traceback": [
            "\u001b[0;36m  File \u001b[0;32m\"<ipython-input-437-f056aebf853d>\"\u001b[0;36m, line \u001b[0;32m2\u001b[0m\n\u001b[0;31m    negative_bigram_probabilities = calculate_bigram_probabilities2(negative_bigrams, cleaned_negative_reviews)\u001b[0m\n\u001b[0m    ^\u001b[0m\n\u001b[0;31mIndentationError\u001b[0m\u001b[0;31m:\u001b[0m unexpected indent\n"
          ]
        }
      ]
    },
    {
      "cell_type": "markdown",
      "source": [
        "# **Implement the function to predict the catogory of a movie review**"
      ],
      "metadata": {
        "id": "5e4gEAmL9fdL"
      }
    },
    {
      "cell_type": "code",
      "source": [
        "def classify_movie_review(test_review):\n",
        "\n",
        "    # Remove punctuation and stop words, tokenize, and lemmatize the words in the test_review\n",
        "    test_review_no_punct = ''.join([char for char in test_review if char not in string.punctuation])\n",
        "    test_words = word_tokenize(test_review_no_punct)\n",
        "    test_words = lemmatize_reviews(test_words)\n",
        "\n",
        "    # Generate bigrams for the test review\n",
        "    test_bigrams = list(bigrams(test_words))\n",
        "\n",
        "    # Calculate the N-gram probability for the test review\n",
        "    positive_probability = 1.0\n",
        "    negative_probability = 1.0\n",
        "\n",
        "    # Calculate probabilities for positive bigrams\n",
        "    for bigram in test_bigrams:\n",
        "        if bigram in positive_bigram_probabilities:\n",
        "            positive_probability *= positive_bigram_probabilities[bigram]\n",
        "\n",
        "    # Calculate probabilities for negative bigrams\n",
        "    for bigram in test_bigrams:\n",
        "        if bigram in negative_bigram_probabilities:\n",
        "            negative_probability *= negative_bigram_probabilities[bigram]\n",
        "\n",
        "    # Predict the category of the test movie review\n",
        "    if positive_probability > negative_probability:\n",
        "       prediction_explanation = \"The review is classified as positive.\"\n",
        "    elif positive_probability < negative_probability:\n",
        "       prediction_explanation = \"The review is classified as negative.\"\n",
        "    else:\n",
        "       prediction_explanation = \"The review is classified as neutral.\"\n",
        "\n",
        "    print(f\"Positive Probability: {positive_probability}\")\n",
        "    print(f\"Negative Probability: {negative_probability}\")\n",
        "\n",
        "    return prediction_explanation\n"
      ],
      "metadata": {
        "id": "0Lv73b8skLdh"
      },
      "execution_count": null,
      "outputs": []
    },
    {
      "cell_type": "code",
      "source": [
        "def classify_movie_review(test_review):\n",
        "\n",
        "    # Remove punctuation and stop words, tokenize and lemmatize the words in the test_review\n",
        "    test_review_no_punct = ''.join([char for char in test_review if char not in string.punctuation])\n",
        "    test_words = word_tokenize(test_review_no_punct)\n",
        "    test_words = lemmatize_reviews(test_words)\n",
        "\n",
        "    # Generate bigrams for the test review\n",
        "    test_bigrams = list(bigrams(test_words))\n",
        "\n",
        "    # Calculate the bigram probability for the test review\n",
        "    positive_prob = 1.0\n",
        "    negative_prob = 1.0\n",
        "\n",
        "    for bigram in test_bigrams:\n",
        "        positive_prob *= positive_bigram_probabilities.get((bigram), 1e-10)  # Using 1e-10 as a small value to avoid division by zero\n",
        "        negative_prob *= negative_bigram_probabilities.get((bigram), 1e-10)\n",
        "\n",
        "    print()\n",
        "\n",
        "    # Predict the category of the test movie review\n",
        "    if positive_prob > negative_prob:\n",
        "       prediction_explanation = \"The review is classified as positive.\"\n",
        "    elif positive_prob < negative_prob:\n",
        "       prediction_explanation = \"The review is classified as negative.\"\n",
        "    else:\n",
        "       prediction_explanation = \"The review is classified as neutral.\"\n",
        "\n",
        "    print(f\"Positive Probability: {positive_prob}\")\n",
        "    print(f\"Negative Probability: {negative_prob}\")\n",
        "\n",
        "    return prediction_explanation"
      ],
      "metadata": {
        "id": "NWfTdHZVg5kz"
      },
      "execution_count": null,
      "outputs": []
    },
    {
      "cell_type": "markdown",
      "source": [
        "# **Predict the catogory of a movie review**"
      ],
      "metadata": {
        "id": "HZLQcu9Y9xyo"
      }
    },
    {
      "cell_type": "code",
      "source": [
        "# Call the function and print the output\n",
        "test_review = \"It's clear that the movie has both its enthusiasts and critics. While it may not be to everyone's taste, it's worth watching with an open mind to form your own opinion.\"\n",
        "\n",
        "output = classify_movie_review(test_review)\n",
        "print(output)"
      ],
      "metadata": {
        "colab": {
          "base_uri": "https://localhost:8080/"
        },
        "id": "bFYTJIWy9awu",
        "outputId": "67eaacc1-7f88-45ac-8c40-11b5d930467a"
      },
      "execution_count": null,
      "outputs": [
        {
          "output_type": "stream",
          "name": "stdout",
          "text": [
            "Positive Probability: 7.694675284702985e-05\n",
            "Negative Probability: 0.00010628122010840684\n",
            "The review is classified as negative.\n"
          ]
        }
      ]
    }
  ]
}